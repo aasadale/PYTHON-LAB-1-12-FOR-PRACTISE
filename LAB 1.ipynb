{
 "cells": [
  {
   "cell_type": "markdown",
   "metadata": {},
   "source": [
    "# PROGRAM NO # 1"
   ]
  },
  {
   "cell_type": "code",
   "execution_count": 6,
   "metadata": {},
   "outputs": [
    {
     "name": "stdout",
     "output_type": "stream",
     "text": [
      "\t\t\t\t\tconvert centigrade into fahrenhiet!\n",
      "Enter temperature in centigrade :32.0\n",
      "Your temperature in Fahrenhiet is :  89.6 F\n"
     ]
    }
   ],
   "source": [
    "# here you can convert your centigrade temperature in Fahrenhiet\n",
    "\n",
    "print(\"\\t\\t\\t\\t\\tconvert centigrade into fahrenhiet!\")\n",
    "c=float(input('Enter temperature in centigrade :'))\n",
    "fahrenhiet_temperature=(c*9/5)+32\n",
    "print(\"Your temperature in Fahrenhiet is : \", fahrenhiet_temperature,'F')"
   ]
  },
  {
   "cell_type": "markdown",
   "metadata": {},
   "source": [
    "# PROGRAM NO # 2"
   ]
  },
  {
   "cell_type": "code",
   "execution_count": 1,
   "metadata": {},
   "outputs": [
    {
     "name": "stdout",
     "output_type": "stream",
     "text": [
      "\t\t\t\t\tCONVERT FAHRENHIET INTO CENTIGRADE \n",
      "Enter temperature in fahrenhiet :89.6\n",
      "your temperature in centigrade is : 32.0 c\n"
     ]
    }
   ],
   "source": [
    "# here you can convert your fahrenhiet temperature in centigrade\n",
    "\n",
    "print(\"\\t\\t\\t\\t\\tCONVERT FAHRENHIET INTO CENTIGRADE \")\n",
    "f=float(input(\"Enter temperature in fahrenhiet :\"))\n",
    "centigrade_temperature=(f-32)*5/9\n",
    "print(\"your temperature in centigrade is :\",centigrade_temperature ,'c')"
   ]
  },
  {
   "cell_type": "markdown",
   "metadata": {},
   "source": [
    "# PROGRAM NO # 3"
   ]
  },
  {
   "cell_type": "code",
   "execution_count": 5,
   "metadata": {},
   "outputs": [
    {
     "name": "stdout",
     "output_type": "stream",
     "text": [
      "calculate area of rectangle\n",
      "input lenght of rectangle :5\n",
      "enter the breadth of rectangle :4\n",
      "the area of rectanlge is : 20.0\n"
     ]
    }
   ],
   "source": [
    "# you can calculate the area of rectangle inthis program\n",
    "print('calculate area of rectangle') \n",
    "print(\"\\n\\t\")\n",
    "l=float(input(\"input lenght of rectangle :\"))\n",
    "b=float(input(\"enter the breadth of rectangle :\"))\n",
    "a=l*b   # formula of area of rectangle\n",
    "print(\"the area of rectanlge is :\",a)"
   ]
  },
  {
   "cell_type": "markdown",
   "metadata": {},
   "source": [
    "# PROGRAM NO # 4"
   ]
  },
  {
   "cell_type": "code",
   "execution_count": 6,
   "metadata": {},
   "outputs": [
    {
     "name": "stdout",
     "output_type": "stream",
     "text": [
      "calculate area of sphere \n",
      "\n",
      "\t\n",
      "enter the radius of sphere :3\n",
      "The volume of sphere is : 113.112 cm3\n"
     ]
    }
   ],
   "source": [
    "#you can calculate the area of sphere\n",
    "print(\"calculate area of sphere \")\n",
    "print(\"\\n\\t\")\n",
    "r=float(input(\"enter the radius of sphere :\"))\n",
    "volume_of_sphere=4/3*(3.142*r**3)\n",
    "print(\"The volume of sphere is :\",volume_of_sphere,'cm3')"
   ]
  },
  {
   "cell_type": "markdown",
   "metadata": {},
   "source": [
    "# PROGRAM NO # 5"
   ]
  },
  {
   "cell_type": "code",
   "execution_count": 7,
   "metadata": {},
   "outputs": [
    {
     "name": "stdout",
     "output_type": "stream",
     "text": [
      "Enter your name:hasnain Ali\n",
      "HASNAIN ALI\n",
      "hasnain ali\n",
      "Hasnain Ali\n"
     ]
    }
   ],
   "source": [
    "# a program that will write your name in upper case and in lower case and in title case\n",
    "\n",
    "a=input(\"Enter your name:\")\n",
    "print(a.upper())\n",
    "print(a.lower())\n",
    "print(a.title())"
   ]
  },
  {
   "cell_type": "code",
   "execution_count": null,
   "metadata": {},
   "outputs": [],
   "source": []
  }
 ],
 "metadata": {
  "kernelspec": {
   "display_name": "Python 3",
   "language": "python",
   "name": "python3"
  },
  "language_info": {
   "codemirror_mode": {
    "name": "ipython",
    "version": 3
   },
   "file_extension": ".py",
   "mimetype": "text/x-python",
   "name": "python",
   "nbconvert_exporter": "python",
   "pygments_lexer": "ipython3",
   "version": "3.7.4"
  }
 },
 "nbformat": 4,
 "nbformat_minor": 2
}
