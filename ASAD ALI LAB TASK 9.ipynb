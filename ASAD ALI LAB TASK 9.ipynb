{
 "cells": [
  {
   "cell_type": "markdown",
   "metadata": {},
   "source": [
    "# PROGRAM NO # 1"
   ]
  },
  {
   "cell_type": "code",
   "execution_count": 2,
   "metadata": {},
   "outputs": [
    {
     "name": "stdout",
     "output_type": "stream",
     "text": [
      "{'345-67-89', '234-56-78', '34567-89', '123-45-67'}\n",
      "The length of phonebook1 is: 4\n",
      "The given phonebook1 is: {'345-67-89', '234-56-78', '34567-89', '123-45-67'}\n"
     ]
    }
   ],
   "source": [
    "phonebook1 = {'123-45-67', '234-56-78', '345-67-89','123-45-67', '34567-89'} \n",
    "print (phonebook1) \n",
    "set_len = len (phonebook1) \n",
    "print (\"The length of phonebook1 is:\", set_len)\n",
    "print (\"The given phonebook1 is:\", phonebook1) "
   ]
  },
  {
   "cell_type": "markdown",
   "metadata": {},
   "source": [
    "# PROGRAM NO # 2"
   ]
  },
  {
   "cell_type": "code",
   "execution_count": 3,
   "metadata": {},
   "outputs": [
    {
     "name": "stdout",
     "output_type": "stream",
     "text": [
      "{17.5, (1, 2, 3, 4, 5, 6), 'Usman Institute of Technology'}\n",
      "The length of mix data is: 3\n"
     ]
    }
   ],
   "source": [
    "mix_data = {'Usman Institute of Technology', 17.5, (1,2,3,4,5,6)}\n",
    "print(mix_data)\n",
    "set_len = len(mix_data)\n",
    "print (\"The length of mix data is:\",set_len) "
   ]
  },
  {
   "cell_type": "markdown",
   "metadata": {},
   "source": [
    "# PROGRAM NO # 3"
   ]
  },
  {
   "cell_type": "code",
   "execution_count": 5,
   "metadata": {},
   "outputs": [
    {
     "name": "stdout",
     "output_type": "stream",
     "text": [
      "For a Data Scientist specialization you need: {'Tableau', 'SQL', 'R', 'Python', 'Git', 'SAS'}\n",
      "For a Data Engineer specialization you need: {'Java', 'SQL', 'Git', 'Python', 'Scala', 'Hadoop'}\n"
     ]
    }
   ],
   "source": [
    "dataScientist = set(['Python', 'R', 'SQL', 'Git', 'Tableau', 'SAS'])\n",
    "dataEngineer = set(['Python', 'Java', 'Scala', 'Git', 'SQL', 'Hadoop']) \n",
    "print (\"For a Data Scientist specialization you need:\", dataScientist) \n",
    "print (\"For a Data Engineer specialization you need:\", dataEngineer) "
   ]
  },
  {
   "cell_type": "markdown",
   "metadata": {},
   "source": [
    "# PROGRAM NO # 4"
   ]
  },
  {
   "cell_type": "code",
   "execution_count": 6,
   "metadata": {},
   "outputs": [
    {
     "name": "stdout",
     "output_type": "stream",
     "text": [
      "set()\n",
      "{}\n",
      "{}\n"
     ]
    }
   ],
   "source": [
    "My_empty_set = set() \n",
    "My_empty_dictionary1 = dict()\n",
    "My_empty_dictionary2 = {} \n",
    " \n",
    "print(My_empty_set)\n",
    "print(My_empty_dictionary1) \n",
    "print(My_empty_dictionary2) "
   ]
  },
  {
   "cell_type": "markdown",
   "metadata": {},
   "source": [
    "# PROGRAM NO # 5"
   ]
  },
  {
   "cell_type": "code",
   "execution_count": 8,
   "metadata": {},
   "outputs": [
    {
     "name": "stdout",
     "output_type": "stream",
     "text": [
      "My top scoring students in Programming fundamentals are: {'Yusra', 'Usman', 'Bassam', 'Wadood', 'Rafeh', 'Ahad', 'Asma'}\n",
      "Oh, I guess I miss one student, let me add his name too\n",
      "Previously I have added :7 students in my list\n",
      "Thanks, I have remember him\n",
      "Now my top scoring students names are : {'Yusra', 'Usman', 'Bassam', 'Khurram', 'Wadood', 'Rafeh', 'Ahad', 'Asma'}\n",
      "Now after adding I have :8 students in my list\n"
     ]
    }
   ],
   "source": [
    "My_topStudents = {'Bassam','Usman','Rafeh', 'Ahad', 'Wadood','Yusra', 'Asma'} \n",
    "print('My top scoring students in Programming fundamentals are:', My_topStudents) \n",
    "print('Oh, I guess I miss one student, let me add his name too')\n",
    "print('Previously I have added :'+ str(len(My_topStudents)) +' students in my list')\n",
    "My_topStudents.add('Khurram') \n",
    "print('Thanks, I have remember him')\n",
    "print('Now my top scoring students names are :', My_topStudents)\n",
    "print('Now after adding I have :'+ str(len(My_topStudents)) +' students in my list') \n",
    " "
   ]
  },
  {
   "cell_type": "markdown",
   "metadata": {},
   "source": [
    "# PROGRAM NO # 6"
   ]
  },
  {
   "cell_type": "code",
   "execution_count": 12,
   "metadata": {},
   "outputs": [
    {
     "name": "stdout",
     "output_type": "stream",
     "text": [
      "My top scoring students in Programming fundamentals are: {'Yusra', 'Usman', 'Bassam', 'Wadood', 'Rafeh', 'Ahad', 'Asma'}\n",
      "Oh, I guess I miss one student, let me add his name too\n",
      "Previously I have added :7 students in my list\n",
      "Thanks, I have remember him\n",
      "Now my top scoring students names are : {'Yusra', 'Usman', 'Bassam', 'Khurram Khalil', 'Wadood', 'Rafeh', 'Khurram Khan', 'Ahad', 'Asma'}\n",
      "Now after adding I have :9 students in my list\n",
      "Oh, I guess I have added one student with similar name, let me remove his name.\n",
      "Now my top scoring students names after removing extra name are : {'Yusra', 'Usman', 'Bassam', 'Wadood', 'Rafeh', 'Khurram Khan', 'Ahad', 'Asma'}\n",
      "Now after removing I have :8 students in my list\n"
     ]
    }
   ],
   "source": [
    "My_topStudents = {'Bassam','Usman','Rafeh', 'Ahad', 'Wadood','Yusra', 'Asma'} \n",
    "print('My top scoring students in Programming fundamentals are:', My_topStudents)\n",
    "print('Oh, I guess I miss one student, let me add his name too')\n",
    "print('Previously I have added :'+ str(len(My_topStudents)) +' students in my list') \n",
    "My_topStudents.add('Khurram Khalil') \n",
    "My_topStudents.add('Khurram Khan')\n",
    "print('Thanks, I have remember him') \n",
    "print('Now my top scoring students names are :', My_topStudents)\n",
    "print('Now after adding I have :'+ str(len(My_topStudents)) +' students in my list')\n",
    "print('Oh, I guess I have added one student with similar name, let me remove his name.')\n",
    "My_topStudents.remove('Khurram Khalil')\n",
    "print('Now my top scoring students names after removing extra name are :', My_topStudents) \n",
    "print('Now after removing I have :'+ str(len(My_topStudents)) +' students in my list')"
   ]
  },
  {
   "cell_type": "markdown",
   "metadata": {},
   "source": [
    "# PROGRAM NO # 7"
   ]
  },
  {
   "cell_type": "code",
   "execution_count": 15,
   "metadata": {},
   "outputs": [
    {
     "name": "stdout",
     "output_type": "stream",
     "text": [
      "My top scoring students in Programming fundamentals are: {'Yusra', 'Usman', 'Bassam', 'Wadood', 'Rafeh', 'Ahad', 'Asma'}\n",
      "Oh, I guess I miss one student, let me add his name too\n",
      "Previously I have added :7 students in my list\n",
      "Thanks, I have remember him\n",
      "Now my top scoring students names are : {'Yusra', 'Usman', 'Bassam', 'Khurram Khalil', 'Wadood', 'Rafeh', 'Khurram Khan', 'Ahad', 'Asma'}\n",
      "Now after adding I have :9 students in my list\n",
      "Oh, I guess I have added one student with similar name, let me remove his name.\n",
      "Now my top scoring students names after removing extra name are : {'Yusra', 'Usman', 'Bassam', 'Wadood', 'Rafeh', 'Khurram Khan', 'Ahad', 'Asma'}\n",
      "Now after removing I have :8 students in my list\n",
      "Now my top scoring students names after removing extra name are : {'Yusra', 'Usman', 'Bassam', 'Wadood', 'Rafeh', 'Khurram Khan', 'Ahad', 'Asma'}\n",
      "Now after removing I have :8 students in my list\n"
     ]
    }
   ],
   "source": [
    "My_topStudents = {'Bassam','Usman','Rafeh', 'Ahad', 'Wadood','Yusra', 'Asma'} \n",
    "print('My top scoring students in Programming fundamentals are:', My_topStudents) \n",
    "print('Oh, I guess I miss one student, let me add his name too') \n",
    "print('Previously I have added :'+ str(len(My_topStudents)) +' students in my list') \n",
    "My_topStudents.add('Khurram Khalil') \n",
    "My_topStudents.add('Khurram Khan')\n",
    "print('Thanks, I have remember him')\n",
    "print('Now my top scoring students names are :', My_topStudents)\n",
    "print('Now after adding I have :'+ str(len(My_topStudents)) +' students in my list')\n",
    "print('Oh, I guess I have added one student with similar name, let me remove his name.') \n",
    "My_topStudents.remove('Khurram Khalil') \n",
    "print('Now my top scoring students names after removing extra name are :', My_topStudents) \n",
    "print('Now after removing I have :'+ str(len(My_topStudents)) +' students in my list') \n",
    "My_topStudents.discard('Khurram Khalil') \n",
    "print('Now my top scoring students names after removing extra name are :', My_topStudents) \n",
    "print('Now after removing I have :'+ str(len(My_topStudents)) +' students in my list')"
   ]
  },
  {
   "cell_type": "markdown",
   "metadata": {},
   "source": [
    "# PROGRAM NO # 8"
   ]
  },
  {
   "cell_type": "code",
   "execution_count": 17,
   "metadata": {},
   "outputs": [
    {
     "name": "stdout",
     "output_type": "stream",
     "text": [
      "My top scoring students in Programming fundamentals are: {'Yusra', 'Usman', 'Bassam', 'Wadood', 'Rafeh', 'Ahad', 'Asma'}\n",
      "Oh, I guess I miss one student, let me add his name too\n",
      "Previously I have added :7 students in my list\n",
      "Thanks, I have remember him\n",
      "Now my top scoring students names are : {'Yusra', 'Usman', 'Bassam', 'Khurram Khalil', 'Wadood', 'Rafeh', 'Khurram Khan', 'Ahad', 'Asma'}\n",
      "Now after adding I have :9 students in my list\n",
      "Oh, I guess I have added one student with similar name, let me remove his name.\n",
      "Now my top scoring students names after removing extra name are : {'Yusra', 'Usman', 'Bassam', 'Wadood', 'Rafeh', 'Khurram Khan', 'Ahad', 'Asma'}\n",
      "Now after removing I have :8 students in my list\n",
      "Now my top scoring students names after removing extra name are : {'Yusra', 'Usman', 'Bassam', 'Wadood', 'Rafeh', 'Khurram Khan', 'Ahad', 'Asma'}\n",
      "Now after removing I have :8 students in my list\n",
      "Now my top scoring students names after removing extra name are : {'Usman', 'Bassam', 'Wadood', 'Rafeh', 'Khurram Khan', 'Ahad', 'Asma'}\n",
      "Now after removing I have :7 students in my list\n"
     ]
    }
   ],
   "source": [
    "My_topStudents = {'Bassam','Usman','Rafeh', 'Ahad', 'Wadood','Yusra', 'Asma'}\n",
    "print('My top scoring students in Programming fundamentals are:', My_topStudents)\n",
    "print('Oh, I guess I miss one student, let me add his name too')\n",
    "print('Previously I have added :'+ str(len(My_topStudents)) +' students in my list')\n",
    "My_topStudents.add('Khurram Khalil') \n",
    "My_topStudents.add('Khurram Khan')\n",
    "print('Thanks, I have remember him')\n",
    "print('Now my top scoring students names are :', My_topStudents) \n",
    "print('Now after adding I have :'+ str(len(My_topStudents)) +' students in my list') \n",
    "print('Oh, I guess I have added one student with similar name, let me remove his name.') \n",
    "My_topStudents.remove('Khurram Khalil')\n",
    "print('Now my top scoring students names after removing extra name are :', My_topStudents)\n",
    "print('Now after removing I have :'+ str(len(My_topStudents)) +' students in my list') \n",
    "My_topStudents.discard('Khurram Khalil')\n",
    "print('Now my top scoring students names after removing extra name are :', My_topStudents) \n",
    "print('Now after removing I have :'+ str(len(My_topStudents)) +' students in my list')\n",
    "My_topStudents.pop()\n",
    "print('Now my top scoring students names after removing extra name are :', My_topStudents) \n",
    "print('Now after removing I have :'+ str(len(My_topStudents)) +' students in my list')"
   ]
  },
  {
   "cell_type": "markdown",
   "metadata": {},
   "source": [
    "# PROGRAM NO # 9"
   ]
  },
  {
   "cell_type": "code",
   "execution_count": 20,
   "metadata": {},
   "outputs": [
    {
     "name": "stdout",
     "output_type": "stream",
     "text": [
      "My top scoring students in Programming fundamentals are: {'Yusra', 'Usman', 'Bassam', 'Wadood', 'Rafeh', 'Ahad', 'Asma'}\n",
      "Lets clear this list and prepare new list for the final exams\n",
      "\n",
      "\n",
      "Now after clearing the set I have : None\n"
     ]
    }
   ],
   "source": [
    "My_topStudents = {'Bassam','Usman','Rafeh', 'Ahad', 'Wadood','Yusra', 'Asma'} \n",
    "print('My top scoring students in Programming fundamentals are:', My_topStudents)\n",
    "print('Lets clear this list and prepare new list for the final exams')\n",
    "My_topStudents = My_topStudents.clear() \n",
    "print(\"\\n\")\n",
    "print('Now after clearing the set I have :', My_topStudents) "
   ]
  },
  {
   "cell_type": "markdown",
   "metadata": {},
   "source": [
    "# PROGRAM NO # 10"
   ]
  },
  {
   "cell_type": "code",
   "execution_count": 22,
   "metadata": {},
   "outputs": [
    {
     "name": "stdout",
     "output_type": "stream",
     "text": [
      "Phonebook1 is : {'345-67-89', '234-56-78', '34567-89', '123-45-67'}\n",
      "Phonebook3 is : {'456-78-90', '345-67-89'}\n",
      "The Union of Phonebook1 and Phonebook3: {'234-56-78', '123-45-67', '456-78-90', '34567-89', '345-67-89'}\n",
      "The Union of Phonebook3 and Phonebook1: {'234-56-78', '456-78-90', '123-45-67', '34567-89', '345-67-89'}\n",
      "The Intersection of Phonebook1 and Phonebook3: {'345-67-89'}\n",
      "The Intersection of Phonebook3 and Phonebook1: {'345-67-89'}\n",
      "The Difference Between Phonebook1 and Phonebook3: {'234-56-78', '34567-89', '123-45-67'}\n"
     ]
    }
   ],
   "source": [
    "phonebook1 = {'123-45-67', '234-56-78', '345-67-89','123-45-67', '34567-89'} \n",
    "phonebook3 = {'345-67-89','456-78-90'} \n",
    "print(\"Phonebook1 is :\",phonebook1) \n",
    "print(\"Phonebook3 is :\",phonebook3) \n",
    "print(\"The Union of Phonebook1 and Phonebook3:\",phonebook1 | phonebook3) \n",
    "print(\"The Union of Phonebook3 and Phonebook1:\",phonebook3 | phonebook1)\n",
    "print(\"The Intersection of Phonebook1 and Phonebook3:\",phonebook1 & phonebook3) \n",
    "print(\"The Intersection of Phonebook3 and Phonebook1:\",phonebook3 & phonebook1) \n",
    "print(\"The Difference Between Phonebook1 and Phonebook3:\",phonebook1 - phonebook3) "
   ]
  },
  {
   "cell_type": "code",
   "execution_count": null,
   "metadata": {},
   "outputs": [],
   "source": []
  }
 ],
 "metadata": {
  "kernelspec": {
   "display_name": "Python 3",
   "language": "python",
   "name": "python3"
  },
  "language_info": {
   "codemirror_mode": {
    "name": "ipython",
    "version": 3
   },
   "file_extension": ".py",
   "mimetype": "text/x-python",
   "name": "python",
   "nbconvert_exporter": "python",
   "pygments_lexer": "ipython3",
   "version": "3.7.4"
  }
 },
 "nbformat": 4,
 "nbformat_minor": 2
}
