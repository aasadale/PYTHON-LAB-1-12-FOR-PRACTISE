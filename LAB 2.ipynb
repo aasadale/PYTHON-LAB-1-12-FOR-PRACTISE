{
 "cells": [
  {
   "cell_type": "markdown",
   "metadata": {},
   "source": [
    "# PROGRAM NO # 1"
   ]
  },
  {
   "cell_type": "code",
   "execution_count": 3,
   "metadata": {},
   "outputs": [
    {
     "name": "stdout",
     "output_type": "stream",
     "text": [
      "1097\n"
     ]
    }
   ],
   "source": [
    "from datetime import date\n",
    "a=date(2016,7,2)\n",
    "b=date(2019,7,4)\n",
    "v=b-a\n",
    "print(v.days)"
   ]
  },
  {
   "cell_type": "markdown",
   "metadata": {},
   "source": [
    "# PROGRAM NO # 2 "
   ]
  },
  {
   "cell_type": "code",
   "execution_count": 1,
   "metadata": {},
   "outputs": [
    {
     "name": "stdout",
     "output_type": "stream",
     "text": [
      "the height for ladder1 is : 15\n",
      "the height for ladder2 is : 0\n",
      "the height for ladder3 is : 17\n",
      "the height for ladder4 is : 24\n"
     ]
    }
   ],
   "source": [
    "l1=16 #in feet\n",
    "l2=20#in feet\n",
    "l3=24 #in feet\n",
    "l4=24 #in feet\n",
    "angle1=(3.142)*75/180\n",
    "angle2= (3.142)*0/180\n",
    "angle3=(3.142)*45/180\n",
    "angle4=(3.142)*80/180\n",
    "import math\n",
    "from math import sin\n",
    "height1=l1*sin(angle1)\n",
    "height2=l2*sin(angle2)\n",
    "height3=l3*sin(angle3)\n",
    "height4=l4*sin(angle4)\n",
    "print(\"the height for ladder1 is :\",round(height1))\n",
    "print(\"the height for ladder2 is :\",round(height2))\n",
    "print(\"the height for ladder3 is :\",round(height3))\n",
    "print(\"the height for ladder4 is :\",round(height4))"
   ]
  },
  {
   "cell_type": "markdown",
   "metadata": {},
   "source": [
    "# PROGRAM NO # 3"
   ]
  },
  {
   "cell_type": "code",
   "execution_count": 29,
   "metadata": {},
   "outputs": [
    {
     "name": "stdout",
     "output_type": "stream",
     "text": [
      "The middle index of list is : 4\n",
      "The first element is : 3 \n",
      "The second element is : 4\n",
      "None\n",
      "[2, 4, 6, 8, 10, 11]\n"
     ]
    }
   ],
   "source": [
    "lst=['1','2','3','4','5','6','7','8','9']\n",
    "#part a\n",
    "lenght_of_list=len(lst)\n",
    "middle_index=int(lenght_of_list/2)\n",
    "print(\"The middle index of list is :\",middle_index)\n",
    "\n",
    "#if we have even number of list\n",
    "lst=['1','2','3','4','5','6']\n",
    "length_of_list=len(lst)\n",
    "middle_index1=int((length_of_list)/2)\n",
    "middle_index2=int((length_of_list)/2)+1\n",
    "print(\"The first element is :\",middle_index1,\"\\nThe second element is :\",middle_index2)\n",
    "#c\n",
    "lst=lst.sort(reverse=True)\n",
    "print(lst)\n",
    "#d\n",
    "lsta=[2,4,6,8,10]\n",
    "lsta.extend([11])\n",
    "print(lsta)\n"
   ]
  },
  {
   "cell_type": "markdown",
   "metadata": {},
   "source": [
    "# PROGRAM NO # 4"
   ]
  },
  {
   "cell_type": "code",
   "execution_count": 34,
   "metadata": {},
   "outputs": [
    {
     "name": "stdout",
     "output_type": "stream",
     "text": [
      "9.5\n",
      "('paper', 'staples', 'pencils')\n",
      "Fitzgerald  jhon  kennedy\n"
     ]
    }
   ],
   "source": [
    "a=6\n",
    "b=7\n",
    "c=(a+b/2)\n",
    "print(c)\n",
    "inventory=(\"paper\",'staples','pencils')\n",
    "print(inventory)\n",
    "first='Fitzgerald'\n",
    "second='jhon'\n",
    "third='kennedy'\n",
    "print(first,\" \" + second,\" \" + third)"
   ]
  },
  {
   "cell_type": "code",
   "execution_count": null,
   "metadata": {},
   "outputs": [],
   "source": []
  }
 ],
 "metadata": {
  "kernelspec": {
   "display_name": "Python 3",
   "language": "python",
   "name": "python3"
  },
  "language_info": {
   "codemirror_mode": {
    "name": "ipython",
    "version": 3
   },
   "file_extension": ".py",
   "mimetype": "text/x-python",
   "name": "python",
   "nbconvert_exporter": "python",
   "pygments_lexer": "ipython3",
   "version": "3.7.4"
  }
 },
 "nbformat": 4,
 "nbformat_minor": 2
}
