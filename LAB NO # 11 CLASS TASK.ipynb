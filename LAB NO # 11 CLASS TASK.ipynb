{
 "cells": [
  {
   "cell_type": "markdown",
   "metadata": {},
   "source": [
    "# PROGRAM NO # 1"
   ]
  },
  {
   "cell_type": "code",
   "execution_count": 3,
   "metadata": {},
   "outputs": [
    {
     "name": "stdout",
     "output_type": "stream",
     "text": [
      "Razer is 6 years old\n",
      "Razer says Woof Woof\n"
     ]
    }
   ],
   "source": [
    "class Dog: \n",
    " \n",
    "    # Class Attribute     \n",
    "    species = 'mammal' \n",
    " \n",
    "    # Initializer / Instance Attributes     \n",
    "    def __init__(self, name, age):         \n",
    "        self.name = name         \n",
    "        self.age = age \n",
    " \n",
    "    # instance method  \n",
    "    def description(self):         \n",
    "        return \"{} is {} years old\".format(self.name, self.age) \n",
    " \n",
    "    # instance method     \n",
    "    def speak(self, sound):         \n",
    "        return \"{} says {}\".format(self.name, sound) \n",
    " # Instantiate the Dog object \n",
    "razer = Dog(\"Razer\", 6) \n",
    " \n",
    "# call our instance methods \n",
    "print(razer.description())\n",
    "print(razer.speak(\"Woof Woof\")) "
   ]
  },
  {
   "cell_type": "markdown",
   "metadata": {},
   "source": [
    "# PROGRAM NO # 2"
   ]
  },
  {
   "cell_type": "code",
   "execution_count": 8,
   "metadata": {},
   "outputs": [
    {
     "name": "stdout",
     "output_type": "stream",
     "text": [
      "Thunder is 9 years old\n",
      "Thunder runs slowly\n",
      "Spinter is 12 years old\n",
      "Spinter runs fast\n",
      "Roger is 5 years old\n",
      "Roger runs quickly\n"
     ]
    }
   ],
   "source": [
    "class Dog: \n",
    " \n",
    "    # Class attribute     \n",
    "    species = 'mammal' \n",
    " \n",
    "    # Initializer / Instance attributes     \n",
    "    def __init__(self, name, age):         \n",
    "        self.name = name         \n",
    "        self.age = age \n",
    " \n",
    "    # instance method     \n",
    "    def description(self):        \n",
    "        return \"{} is {} years old\".format(self.name, self.age) \n",
    " \n",
    "    # instance method \n",
    "    def speak(self, sound):         \n",
    "        return \"{} says {}\".format(self.name, sound) \n",
    " \n",
    " \n",
    "# Child class (inherits from Dog class)\n",
    "class RussellTerrier(Dog):     \n",
    "    def run(self, speed):        \n",
    "        return \"{} runs {}\".format(self.name, speed) \n",
    " \n",
    " \n",
    "# Child class (inherits from Dog class) \n",
    "class Bulldog(Dog):     \n",
    "    def run(self, speed):         \n",
    "        return \"{} runs {}\".format(self.name, speed) \n",
    " \n",
    " \n",
    "# Child classes inherit attributes and # behaviors from the parentclass \n",
    "thunder = Bulldog(\"Thunder\", 9) \n",
    "print(thunder.description()) \n",
    " \n",
    "# Child classes have specific attributes # and behaviors as well \n",
    "print(thunder.run(\"slowly\")) \n",
    " \n",
    "spinter = Bulldog(\"Spinter\", 12) \n",
    "print(spinter.description())\n",
    "print(spinter.run(\"fast\")) \n",
    " \n",
    "roger = RussellTerrier(\"Roger\", 5) \n",
    "print(roger.description()) \n",
    "print(roger.run(\"quickly\")) "
   ]
  },
  {
   "cell_type": "markdown",
   "metadata": {},
   "source": [
    "# PROGRAM NO # 3"
   ]
  },
  {
   "cell_type": "code",
   "execution_count": 11,
   "metadata": {},
   "outputs": [
    {
     "name": "stdout",
     "output_type": "stream",
     "text": [
      "Thunder is 9 years old\n",
      "Thunder runs slowly\n",
      "True\n",
      "True\n",
      "True\n",
      "False\n",
      "Thanks for understanding the concept of OOPs\n"
     ]
    }
   ],
   "source": [
    "# Parent class \n",
    "class Dog: \n",
    " \n",
    "    # Class attribute     \n",
    "    species = 'mammal' \n",
    " \n",
    "    # Initializer / Instance attributes     \n",
    "    def __init__(self, name, age):        \n",
    "        self.name = name         \n",
    "        self.age = age \n",
    " \n",
    "    # instance method     \n",
    "    def description(self):         \n",
    "        return \"{} is {} years old\".format(self.name, self.age) \n",
    "     # instance method    \n",
    "    def speak(self, sound):         \n",
    "        return \"{} says {}\".format(self.name, sound) \n",
    " \n",
    " \n",
    "# Child class (inherits from Dog() class) \n",
    "class RussellTerrier(Dog):     \n",
    "    def run(self, speed):         \n",
    "        return \"{} runs {}\".format(self.name, speed) \n",
    " \n",
    " \n",
    "# Child class (inherits from Dog() class) \n",
    "class Bulldog(Dog):     \n",
    "    def run(self, speed):         \n",
    "        return \"{} runs {}\".format(self.name, speed) \n",
    " \n",
    " \n",
    "# Child classes inherit attributes and # behaviors from the parent CLASS\n",
    "thunder = Bulldog(\"Thunder\", 9) \n",
    "print(thunder.description()) \n",
    " \n",
    "# Child classes have specific attributes # and behaviors as well \n",
    "print(thunder.run(\"slowly\")) \n",
    " \n",
    "# Is thunder an instance of Dog()?\n",
    "print(isinstance(thunder, Dog)) \n",
    " \n",
    "# Is thunder_kid an instance of Dog()? \n",
    "thunder_kid = Dog(\"ThunderKid\", 2)\n",
    "print(isinstance(thunder, Dog)) \n",
    " \n",
    "# Is Kate an instance of Bulldog() \n",
    "Kate = RussellTerrier(\"Kate\", 4) \n",
    "print(isinstance(Kate, Dog)) \n",
    " \n",
    "# Is thunder_kid and instance of kate?\n",
    "print(isinstance(thunder_kid, Bulldog))\n",
    "print(\"Thanks for understanding the concept of OOPs\") "
   ]
  }
 ],
 "metadata": {
  "kernelspec": {
   "display_name": "Python 3",
   "language": "python",
   "name": "python3"
  },
  "language_info": {
   "codemirror_mode": {
    "name": "ipython",
    "version": 3
   },
   "file_extension": ".py",
   "mimetype": "text/x-python",
   "name": "python",
   "nbconvert_exporter": "python",
   "pygments_lexer": "ipython3",
   "version": "3.7.4"
  }
 },
 "nbformat": 4,
 "nbformat_minor": 2
}
