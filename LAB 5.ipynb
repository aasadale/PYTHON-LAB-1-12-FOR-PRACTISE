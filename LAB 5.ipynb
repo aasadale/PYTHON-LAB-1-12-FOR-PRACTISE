{
 "cells": [
  {
   "cell_type": "markdown",
   "metadata": {},
   "source": [
    "# PROGRAM NO  # 1"
   ]
  },
  {
   "cell_type": "code",
   "execution_count": 60,
   "metadata": {},
   "outputs": [
    {
     "name": "stdout",
     "output_type": "stream",
     "text": [
      "150.816\n",
      "the volume of cylinder is 268.117cm³\n"
     ]
    }
   ],
   "source": [
    "# here you can calculate the area of cylinder\n",
    "\n",
    "def area(radius,height):\n",
    "    a=(2*3.142*radius*height)+(2*3.142*radius**2)\n",
    "    print(a)\n",
    "area(3,5)\n",
    "\n",
    "#now you are calculating the volume of sphere\n",
    "\n",
    "def volume(radius):\n",
    "    volume=4/3*(3.142*(radius**3))\n",
    "    print('the volume of cylinder is {0:.{1}f}cm\\u00b3'.format(volume,3))\n",
    "volume(4)\n"
   ]
  },
  {
   "cell_type": "markdown",
   "metadata": {},
   "source": [
    "# PROGRAM NO # 2"
   ]
  },
  {
   "cell_type": "code",
   "execution_count": 69,
   "metadata": {},
   "outputs": [
    {
     "name": "stdout",
     "output_type": "stream",
     "text": [
      "the area of rectangre is : 20 cm\n",
      "\n",
      "\t\n",
      "the volume of rectangle is 120.0cm³\n"
     ]
    }
   ],
   "source": [
    "# here we are goimg to calulate the area of rectangle\n",
    "\n",
    "def area(lenght,breadth):\n",
    "    area_of_rectangle=(lenght*breadth)  # formula for area of rectangle\n",
    "    print('the area of rectangre is :',area_of_rectangle,'cm')\n",
    "area(4,5)\n",
    "print(\"\\n\\t\")\n",
    "\n",
    "# now we are going to claculate the volume of rectangle\n",
    "def volume(lenght,breadth,height):\n",
    "    volume=(lenght*breadth*height)  # here is the formula for volume\n",
    "    print(\"the volume of rectangle is {0:.{1}f}cm\\u00b3\".format(volume,1))\n",
    "volume(4,5,6)  "
   ]
  },
  {
   "cell_type": "markdown",
   "metadata": {},
   "source": [
    "# PROGRM NO # 3"
   ]
  },
  {
   "cell_type": "code",
   "execution_count": 1,
   "metadata": {},
   "outputs": [
    {
     "name": "stdout",
     "output_type": "stream",
     "text": [
      "Enter the number of terms :35\n",
      "Enter the first term :3\n",
      "Enter the difference between two terms :6\n",
      "\n",
      "\t\n",
      "207\n",
      "ask the user if he want to continue or not ?yes\n",
      "Enter the number of terms :45\n",
      "Enter the first term :3\n",
      "Enter the difference between two terms :6\n",
      "267\n",
      "ask the user if he want to continue or not ?no\n",
      "you are done ! \n"
     ]
    }
   ],
   "source": [
    "# now in this program we will calculate the arithmetic sequence of numbers\n",
    "n=int(input(\"Enter the number of terms :\"))\n",
    "a=int(input(\"Enter the first term :\"))\n",
    "d= int(input(\"Enter the difference between two terms :\"))\n",
    "print(\"\\n\\t\")\n",
    "\n",
    "def arithmetic_mean():\n",
    "    T=a+(n-1)*d\n",
    "    print(T)\n",
    "arithmetic_mean()\n",
    "\n",
    "while True:\n",
    "    x=input(\"ask the user if he want to continue or not ?\")\n",
    "    if x==\"yes\":\n",
    "        n=int(input(\"Enter the number of terms :\"))\n",
    "        a=int(input(\"Enter the first term :\"))\n",
    "        d= int(input(\"Enter the difference between two terms :\"))\n",
    "        arithmetic_mean()\n",
    "    else:\n",
    "        if x==\"no\":\n",
    "            print(\"you are done ! \")\n",
    "            break\n"
   ]
  },
  {
   "cell_type": "markdown",
   "metadata": {},
   "source": [
    "# PROGRAM NO # 4"
   ]
  },
  {
   "cell_type": "code",
   "execution_count": 3,
   "metadata": {},
   "outputs": [
    {
     "name": "stdout",
     "output_type": "stream",
     "text": [
      "Enter the string :asad\n",
      "The given string is not palindrome !\n",
      "Ask the user if he wanna continue or not ?yes\n",
      "Enter the string :mom\n",
      "The given string is palindrome !\n",
      "Ask the user if he wanna continue or not ?yes\n",
      "Enter the string :civic\n",
      "The given string is palindrome !\n",
      "Ask the user if he wanna continue or not ?yes\n",
      "Enter the string :1001\n",
      "The given string is palindrome !\n",
      "Ask the user if he wanna continue or not ?yes\n",
      "Enter the string :010\n",
      "The given string is palindrome !\n",
      "Ask the user if he wanna continue or not ?no\n",
      "You have finished the task !\n"
     ]
    }
   ],
   "source": [
    "#this program is used to detect whether the string is palindrome or not\n",
    "\n",
    "a=input(\"Enter the string :\")\n",
    "b=a[::-1]   #here we are reversing the string\n",
    "if b ==a:\n",
    "    print(\"The given string is palindrome !\")\n",
    "else:\n",
    "    print(\"The given string is not palindrome !\")\n",
    "while True:\n",
    "    x=input(\"Ask the user if he wanna continue or not ?\")\n",
    "    if x==\"yes\":\n",
    "        a=input(\"Enter the string :\")\n",
    "        b=a[::-1] #here we are reversing the string\n",
    "        if b ==a:\n",
    "            print(\"The given string is palindrome !\")\n",
    "        else:\n",
    "            print(\"The given string is not palindrome !\")\n",
    "    else:\n",
    "        print(\"You have finished the task !\")\n",
    "        break\n",
    "        \n",
    "        "
   ]
  },
  {
   "cell_type": "markdown",
   "metadata": {},
   "source": [
    "# PROGRAM NO # 5"
   ]
  },
  {
   "cell_type": "code",
   "execution_count": 1,
   "metadata": {},
   "outputs": [
    {
     "name": "stdout",
     "output_type": "stream",
     "text": [
      "enter maths marks90\n",
      "enter urdu marks90\n",
      "enter english marks90\n",
      "enter physcis marks90\n",
      "enter chemistry marks90\n",
      "\n",
      "\n",
      "\n",
      "\n",
      "\n",
      "\n",
      "\n",
      "\n",
      "\n",
      "\n",
      "\n",
      "\n",
      "\n",
      "===============================================================================================================\n",
      "Serial Number: 0122424\n",
      "\t\t\t\t\t\tMARKSHEET\n",
      "\n",
      "\n",
      "\n",
      "\t\t\t------------BOARD OF SECONDARY EDUCATION KARACHI------------\n",
      "\n",
      "\t\n",
      "ROLL NUMBER : 066\n",
      "\n",
      "\t\n",
      "NAME :ASAD ALI\n",
      "\n",
      "\t\n",
      "SUBJECTS\t\t\t\tTOTAL MARKS\t\t\t\tOBTAINED MARKS\n",
      "\n",
      "\n",
      "\n",
      "Maths \t\t\t\t\t\t100 \t\t\t\t\t 90\n",
      "\n",
      "\t\n",
      "urdu \t\t\t\t\t\t100 \t\t\t\t\t 90\n",
      "\n",
      "\t\n",
      "English \t\t\t\t\t100 \t\t\t\t\t 90\n",
      "\n",
      "\t\n",
      "physcis \t\t\t\t\t100  \t\t\t\t\t 90\n",
      "\n",
      "\t\n",
      "chemistry \t\t\t\t\t100 \t\t\t\t\t 90\n",
      "\n",
      "\n",
      "\n",
      "\t\t\t\t\t\t\t\t\t\tObtained marks : 450\n",
      "\t\t\t\t\t\t\t\t\t\tPercentage : 90.0 %\n",
      "Grade : A-one\n",
      "\n",
      "\t\n",
      "Controller of Exams : -------------------\n",
      "==============================================================================================================\n"
     ]
    }
   ],
   "source": [
    "Maths_marks=int(input('enter maths marks'))\n",
    "urdu_marks=int(input('enter urdu marks'))\n",
    "English_marks=int(input('enter english marks'))\n",
    "physics_marks=int(input('enter physcis marks'))\n",
    "chemistry_marks=int(input('enter chemistry marks'))\n",
    "Total_Marks=(Maths_marks+urdu_marks+English_marks+physics_marks+chemistry_marks)\n",
    "percentage=(Total_Marks/500)*100\n",
    "\n",
    "\n",
    "def grade():\n",
    "    if percentage >=85 and percentage <=100:\n",
    "        print(\"Grade : A-one\")\n",
    "    elif percentage>=80 and percentage <=90:\n",
    "        print(\"Grade : A\")\n",
    "    elif percentage >=75 and percentage <=84:\n",
    "        print(\"Grade : B\")\n",
    "    elif percentage >=70 and percentage <=74:\n",
    "        print(\"Grade : C\")\n",
    "    elif percentage >=65 and percentage <70:\n",
    "        print(\"Grade : D\")\n",
    "    elif percentage >=60 and percentage<65 :\n",
    "        print(\"Grade : Fail\")\n",
    "    else:\n",
    "        print(\"you need to improve yourselve\")\n",
    "\n",
    "\n",
    "print(\"\\n\\n\\n\\n\\n\\n\\n\\n\\n\\n\\n\\n\")\n",
    "\n",
    "print(\"===============================================================================================================\")\n",
    "\n",
    "\n",
    "\n",
    "\n",
    "\n",
    "\n",
    "\n",
    "\n",
    "\n",
    "\n",
    "\n",
    "\n",
    "serial=int(input('Serial Number: '))\n",
    "print('\\t\\t\\t\\t\\t\\tMARKSHEET')\n",
    "print(\"\\n\\n\")\n",
    "print('\\t\\t\\t------------BOARD OF SECONDARY EDUCATION KARACHI------------')\n",
    "print(\"\\n\\t\")\n",
    "ROLL_NUMBER=int(input('ROLL NUMBER : '))\n",
    "print(\"\\n\\t\")\n",
    "name=input('NAME :')\n",
    "print(\"\\n\\t\")\n",
    "print('SUBJECTS\\t\\t\\t\\tTOTAL MARKS\\t\\t\\t\\tOBTAINED MARKS')\n",
    "print(\"\\n\\n\")\n",
    "print(\"Maths\",\"\\t\\t\\t\\t\\t\\t100\",\"\\t\\t\\t\\t\\t\",Maths_marks)\n",
    "print(\"\\n\\t\")\n",
    "print(\"urdu\",\"\\t\\t\\t\\t\\t\\t100\",\"\\t\\t\\t\\t\\t\",urdu_marks)\n",
    "print(\"\\n\\t\")\n",
    "print(\"English\",\"\\t\\t\\t\\t\\t100\",\"\\t\\t\\t\\t\\t\",English_marks)\n",
    "print(\"\\n\\t\")\n",
    "print(\"physcis\",\"\\t\\t\\t\\t\\t100\",\" \\t\\t\\t\\t\\t\",physics_marks)\n",
    "print(\"\\n\\t\")\n",
    "print(\"chemistry\",\"\\t\\t\\t\\t\\t100\",\"\\t\\t\\t\\t\\t\",chemistry_marks)\n",
    "print(\"\\n\\n\")\n",
    "print(\"\\t\\t\\t\\t\\t\\t\\t\\t\\t\\tObtained marks :\",Total_Marks)\n",
    "print(\"\\t\\t\\t\\t\\t\\t\\t\\t\\t\\tPercentage :\",percentage,\"%\")\n",
    "grade()\n",
    "print(\"\\n\\t\")\n",
    "print(\"Controller of Exams : -------------------\")\n",
    "print(\"==============================================================================================================\")"
   ]
  },
  {
   "cell_type": "markdown",
   "metadata": {},
   "source": [
    "# PROGRAM NO # 6"
   ]
  },
  {
   "cell_type": "code",
   "execution_count": 49,
   "metadata": {},
   "outputs": [
    {
     "name": "stdout",
     "output_type": "stream",
     "text": [
      "Your final velocity will be : 83.0m/s²\n",
      "\n",
      "\t\n",
      "the distance acc to second law is given as: 92.0m/s²\n",
      "\n",
      "\t\n",
      "the force will be : 130.0m/s²\n",
      "\n",
      "\t\n",
      "So these were the three laws of motion\n"
     ]
    }
   ],
   "source": [
    "#In this program we are creating 3 functions which can calulate three lwas of motion\n",
    "def firstlaw(vi,a,t):\n",
    "    vf=vi+(a*t)   # heres our first law of motion\n",
    "    print(\"Your final velocity will be : {0:.{1}f}m/s\\u00b2\".format(vf,1))  # here we use format to apply unit\n",
    "firstlaw(3,20,4)\n",
    "print(\"\\n\\t\")\n",
    "\n",
    "def secondlaw(vi,t,a):\n",
    "    s= (vi*t)+1/2*(a*t**2)\n",
    "    print(\"the distance acc to second law is given as: {0:.{1}f}m/s\\u00b2\".format(s,1)) # here we use format to apply unit\n",
    "secondlaw(3,4,10)\n",
    "print(\"\\n\\t\")\n",
    "\n",
    "def thirdlaw(mass,acc):\n",
    "    f=mass*acc\n",
    "    print(\"the force will be : {0:.{1}f}m/s\\u00b2\".format(f,1))\n",
    "thirdlaw(13,10)\n",
    "print(\"\\n\\t\")\n",
    "print(\"So these were the three laws of motion\")"
   ]
  },
  {
   "cell_type": "markdown",
   "metadata": {},
   "source": [
    "# PROGRAM NO # 7"
   ]
  },
  {
   "cell_type": "code",
   "execution_count": 53,
   "metadata": {},
   "outputs": [
    {
     "name": "stdout",
     "output_type": "stream",
     "text": [
      "The maxmimum height will be : 2.3169177858066723 meters\n"
     ]
    }
   ],
   "source": [
    "# now here we are going to calculate the maximum height of projectile\n",
    "\n",
    "def projectile(v,x,g):\n",
    "    import math\n",
    "    from math import sin\n",
    "    maxheight=(v**2*sin(x)**2)/(2*g)  # formula for max height\n",
    "    print(\"The maxmimum height will be :\",maxheight,\"meters\")\n",
    "projectile(8,45,10)"
   ]
  },
  {
   "cell_type": "markdown",
   "metadata": {},
   "source": [
    "# PROGRAM NO # 8"
   ]
  },
  {
   "cell_type": "code",
   "execution_count": 55,
   "metadata": {},
   "outputs": [
    {
     "name": "stdout",
     "output_type": "stream",
     "text": [
      "ygolonhcet fo eutitsni namsu\n"
     ]
    }
   ],
   "source": [
    "#This is a aimple program that will reverse the order of your string\n",
    "\n",
    "def reversename(string):\n",
    "    string=string[::-1]\n",
    "    print(string)\n",
    "reversename(\"usman institue of technology\")"
   ]
  },
  {
   "cell_type": "markdown",
   "metadata": {},
   "source": [
    "# PROGRAM NO # 9"
   ]
  },
  {
   "cell_type": "code",
   "execution_count": 29,
   "metadata": {},
   "outputs": [
    {
     "name": "stdout",
     "output_type": "stream",
     "text": [
      "The table of sin is :0.841 \t\t The table of cos is :0.540 \t\t The table of tan is :1.557\n",
      "The table of sin is :0.909 \t\t The table of cos is :-0.416 \t\t The table of tan is :-2.185\n",
      "The table of sin is :0.141 \t\t The table of cos is :-0.990 \t\t The table of tan is :-0.143\n",
      "The table of sin is :-0.757 \t\t The table of cos is :-0.654 \t\t The table of tan is :1.158\n",
      "The table of sin is :-0.959 \t\t The table of cos is :0.284 \t\t The table of tan is :-3.381\n",
      "The table of sin is :-0.279 \t\t The table of cos is :0.960 \t\t The table of tan is :-0.291\n",
      "The table of sin is :0.657 \t\t The table of cos is :0.754 \t\t The table of tan is :0.871\n",
      "The table of sin is :0.989 \t\t The table of cos is :-0.146 \t\t The table of tan is :-6.800\n",
      "The table of sin is :0.412 \t\t The table of cos is :-0.911 \t\t The table of tan is :-0.452\n",
      "The table of sin is :-0.544 \t\t The table of cos is :-0.839 \t\t The table of tan is :0.648\n"
     ]
    }
   ],
   "source": [
    "#in this program we are going to generate the table of sin ,cos and tan\n",
    "\n",
    "def tableoffunctions():\n",
    "    import math\n",
    "    from math import sin\n",
    "    from math import cos\n",
    "    from math import tan\n",
    "    for i in range(1,11):\n",
    "        a=sin(i)\n",
    "        b=cos(i)\n",
    "        c=tan(i)\n",
    "        print( \"The table of sin is :{0:.{1}f}\".format(a,3),\"\\t\\t\",\"The table of cos is :{0:.{1}f}\".format(b,3),\"\\t\\t\",\"The table of tan is :{0:.{1}f}\".format(c,3))\n",
    "# here i have applied format in order to round off value to 3    \n",
    "tableoffunctions()"
   ]
  },
  {
   "cell_type": "markdown",
   "metadata": {},
   "source": [
    "# PROGRAM NO  # 10"
   ]
  },
  {
   "cell_type": "code",
   "execution_count": 41,
   "metadata": {},
   "outputs": [
    {
     "data": {
      "text/plain": [
       "['k']"
      ]
     },
     "execution_count": 41,
     "metadata": {},
     "output_type": "execute_result"
    }
   ],
   "source": [
    "def caeser_encrypt(realText,step):\n",
    "    outText=[]\n",
    "    cryptText=[]\n",
    "    uppercase=[\"A\",'B','C','D','E','F','G','H','I','J','K','L','M','N','O','P','Q','R','S','T','U','V','W','X','Y','Z']\n",
    "    lowercase=['a','b','c','d','e','f','g','h','i','j','k','l','m','n','o','p','q','r','s','t','u','v','w','x','y','z']\n",
    "    for eachletter in realText:\n",
    "        if eachletter in uppercase:\n",
    "            index=uppercase.index(eachletter)\n",
    "            crypting=(index+step)%26\n",
    "            cryptText.append(crypting)\n",
    "            newLetter=uppercase[crypting]\n",
    "            outText.append(newLetter)\n",
    "        elif eachletter in lowercase:\n",
    "            index=lowercase.index(eachletter)\n",
    "            crypting=(index+step)%26\n",
    "            cryptText.append(crypting)\n",
    "            newLetter=lowercase[crypting]\n",
    "            outText.append(newLetter)\n",
    "        return outText\n",
    "caeser_encrypt(\"asad\",10)\n",
    "            "
   ]
  },
  {
   "cell_type": "markdown",
   "metadata": {},
   "source": [
    "# PRORAM NO # 11"
   ]
  },
  {
   "cell_type": "code",
   "execution_count": 61,
   "metadata": {},
   "outputs": [
    {
     "name": "stdout",
     "output_type": "stream",
     "text": [
      "The area of semi circle is :38m²\n",
      "\n",
      "\t\n",
      "As the two circles are same so they have same area !\n",
      "so the aea of two semicircle will be : 1481.442m²\n",
      "the area of large circle is :  153.958\n",
      "the area of circle including two circles are : 1635.400m²\n",
      "the area excluding semicircle is :1327.48m²\n",
      "for perimeter\n",
      "the area of perimeter of large circle will be : 29.571\n",
      "the area of perimeter of small circle will be : 15.571\n",
      "the area of perimeter of two circle is :242.46m²\n",
      "the area of perimeter of circle including semicircle :258.03m²\n",
      "the area of perimeter of circle excluding semicircle :226.89m²\n"
     ]
    }
   ],
   "source": [
    "#to find the area  and perimeter of circle including and excluding semicircle\n",
    "\n",
    "#to find the area of perimter of semicircle 1 \n",
    "r=3.5\n",
    "area=3.142*(r)**2\n",
    "print(\"The area of semi circle is :{0:.{1}f}m\\u00b2\".format(area,0))\n",
    "print(\"\\n\\t\")\n",
    "print(\"As the two circles are same so they have same area !\")\n",
    "x= (area*area)\n",
    "print(\"so the aea of two semicircle will be : {0:.{1}f}m\\u00b2\".format(x,3))\n",
    "y=(3.142*(7)**2)\n",
    "print(\"the area of large circle is : \",y)\n",
    "b=x+y\n",
    "print(\"the area of circle including two circles are : {0:.{1}f}m\\u00b2\".format(b,3))\n",
    "g=x-y\n",
    "print(\"the area excluding semicircle is :{0:.{1}f}m\\u00b2\".format(g,2))\n",
    "\n",
    "print(\"for perimeter\")\n",
    "# formula for perimeter is 1/2 pi+d+d\n",
    "w=(1/2*3.142)+(14+14)\n",
    "print(\"the area of perimeter of large circle will be :\",w)\n",
    "t=(1/2*3.142)+(7+7)\n",
    "print(\"the area of perimeter of small circle will be :\",t)\n",
    "h=t*t\n",
    "print(\"the area of perimeter of two circle is :{0:.{1}f}m\\u00b2\".format(h,2))\n",
    "p=h+t\n",
    "print(\"the area of perimeter of circle including semicircle :{0:.{1}f}m\\u00b2\".format(p,2))\n",
    "l=h-t\n",
    "print(\"the area of perimeter of circle excluding semicircle :{0:.{1}f}m\\u00b2\".format(l,2))"
   ]
  },
  {
   "cell_type": "code",
   "execution_count": null,
   "metadata": {},
   "outputs": [],
   "source": []
  }
 ],
 "metadata": {
  "kernelspec": {
   "display_name": "Python 3",
   "language": "python",
   "name": "python3"
  },
  "language_info": {
   "codemirror_mode": {
    "name": "ipython",
    "version": 3
   },
   "file_extension": ".py",
   "mimetype": "text/x-python",
   "name": "python",
   "nbconvert_exporter": "python",
   "pygments_lexer": "ipython3",
   "version": "3.7.4"
  }
 },
 "nbformat": 4,
 "nbformat_minor": 2
}
