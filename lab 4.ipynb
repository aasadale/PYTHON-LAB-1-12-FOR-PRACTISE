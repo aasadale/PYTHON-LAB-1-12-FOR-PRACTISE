{
 "cells": [
  {
   "cell_type": "markdown",
   "metadata": {},
   "source": [
    "# PROGRAM NO # 1"
   ]
  },
  {
   "cell_type": "code",
   "execution_count": 22,
   "metadata": {},
   "outputs": [
    {
     "name": "stdout",
     "output_type": "stream",
     "text": [
      "enter the value of b :2\n",
      "enter the value of a :1\n",
      "enter the value of c :1\n",
      "(-1+0j) (-1+0j)\n"
     ]
    }
   ],
   "source": [
    "#this program will calulate a eqation with quadratic formula\n",
    "b=int(input(\"enter the value of b :\"))\n",
    "a=int(input(\"enter the value of a :\"))\n",
    "c=int(input(\"enter the value of c :\"))\n",
    "if a==0:\n",
    "    print(\"program cannot run !\")\n",
    "else:\n",
    "    import cmath\n",
    "    d=(b**2-4*a*c)\n",
    "    x1=(-b-cmath.sqrt(d))/(2*a)\n",
    "    x2=(-b+cmath.sqrt(d))/(2*a)\n",
    "    print(x1,x2)"
   ]
  },
  {
   "cell_type": "markdown",
   "metadata": {},
   "source": [
    "# PROGRAM NO # 2"
   ]
  },
  {
   "cell_type": "code",
   "execution_count": 1,
   "metadata": {},
   "outputs": [
    {
     "name": "stdout",
     "output_type": "stream",
     "text": [
      "enter the first term3\n",
      "enter the no of terms35\n",
      "enter the common difference6\n",
      "207\n",
      "ask the user if he wanna continue or not ?yes\n",
      "enter the first term3\n",
      "enter the no of terms45\n",
      "enter the common difference6\n",
      "267\n",
      "ask the user if he wanna continue or not ?no\n",
      "you are done!\n"
     ]
    }
   ],
   "source": [
    "a=int(input(\"enter the first term\"))\n",
    "n=int(input(\"enter the no of terms\"))\n",
    "d=int(input(\"enter the common difference\"))\n",
    "T=a+(n-1)*d\n",
    "print(T)\n",
    "while True:\n",
    "    x=input(\"ask the user if he wanna continue or not ?\")\n",
    "    if x==\"yes\":\n",
    "        a=int(input(\"enter the first term\"))\n",
    "        n=int(input(\"enter the no of terms\"))\n",
    "        d=int(input(\"enter the common difference\"))\n",
    "        T=a+(n-1)*d\n",
    "        print(T)\n",
    "    if x==\"no\":\n",
    "        print(\"you are done!\")\n",
    "        break\n",
    "        \n",
    "        \n",
    "\n",
    "        "
   ]
  },
  {
   "cell_type": "markdown",
   "metadata": {},
   "source": [
    "# PROGRAM NO # 3"
   ]
  },
  {
   "cell_type": "code",
   "execution_count": 1,
   "metadata": {},
   "outputs": [
    {
     "name": "stdout",
     "output_type": "stream",
     "text": [
      "enter the string :asad\n",
      "The string is not palindrome\n",
      "ask the user if wanna continue or notyes\n",
      "enter the string :mom\n",
      "The string is palindrome\n",
      "ask the user if wanna continue or notyes\n",
      "enter the string :civic\n",
      "The string is palindrome\n",
      "ask the user if wanna continue or notyes\n",
      "enter the string :1001\n",
      "The string is palindrome\n",
      "ask the user if wanna continue or notyes\n",
      "enter the string :010\n",
      "The string is palindrome\n",
      "ask the user if wanna continue or notno\n",
      "you are done with it!\n"
     ]
    }
   ],
   "source": [
    "a=input(\"enter the string :\")\n",
    "x=a[::-1]\n",
    "if x==a:\n",
    "    print(\"The string is palindrome\")\n",
    "else:\n",
    "    print(\"The string is not palindrome\")\n",
    "while True:\n",
    "    c=input(\"ask the user if wanna continue or not\")\n",
    "    if c==\"yes\":\n",
    "        a=input(\"enter the string :\")\n",
    "        x=a[::-1]\n",
    "        if x==a:\n",
    "            print(\"The string is palindrome\")\n",
    "        else:\n",
    "            print(\"The string is not palindrome\")\n",
    "    if c=='no':\n",
    "        print(\"you are done with it!\")\n",
    "        break\n",
    "\n",
    "        "
   ]
  },
  {
   "cell_type": "markdown",
   "metadata": {},
   "source": [
    "# PROGRAM NO # 4"
   ]
  },
  {
   "cell_type": "code",
   "execution_count": 2,
   "metadata": {},
   "outputs": [
    {
     "name": "stdout",
     "output_type": "stream",
     "text": [
      "enter maths marks90\n",
      "enter urdu marks89\n",
      "enter english marks89\n",
      "enter physcis marks78\n",
      "enter chemistry marks87\n",
      "\n",
      "\n",
      "\n",
      "\n",
      "\n",
      "\n",
      "\n",
      "\n",
      "\n",
      "\n",
      "\n",
      "\n",
      "\n",
      "===============================================================================================================\n",
      "Serial Number: 00123464\n",
      "\t\t\t\t\t\tMARKSHEET\n",
      "\n",
      "\n",
      "\n",
      "\t\t\t------------BOARD OF SECONDARY EDUCATION KARACHI------------\n",
      "\n",
      "\t\n",
      "ROLL NUMBER : 066\n",
      "\n",
      "\t\n",
      "NAME :ASAD ALI\n",
      "\n",
      "\t\n",
      "SUBJECTS\t\t\t\tTOTAL MARKS\t\t\t\tOBTAINED MARKS\n",
      "\n",
      "\n",
      "\n",
      "Maths \t\t\t\t\t\t100 \t\t\t\t\t 90\n",
      "\n",
      "\t\n",
      "urdu \t\t\t\t\t\t100 \t\t\t\t\t 89\n",
      "\n",
      "\t\n",
      "English \t\t\t\t\t100 \t\t\t\t\t 89\n",
      "\n",
      "\t\n",
      "physcis \t\t\t\t\t100  \t\t\t\t\t 78\n",
      "\n",
      "\t\n",
      "chemistry \t\t\t\t\t100 \t\t\t\t\t 87\n",
      "\n",
      "\n",
      "\n",
      "\t\t\t\t\t\t\t\t\t\tObtained marks : 433\n",
      "\t\t\t\t\t\t\t\t\t\tPercentage : 86.6 %\n",
      "Grade : A-one\n",
      "\n",
      "\t\n",
      "Controller of Exams : -------------------\n",
      "==============================================================================================================\n"
     ]
    }
   ],
   "source": [
    "Maths_marks=int(input('enter maths marks'))\n",
    "urdu_marks=int(input('enter urdu marks'))\n",
    "English_marks=int(input('enter english marks'))\n",
    "physics_marks=int(input('enter physcis marks'))\n",
    "chemistry_marks=int(input('enter chemistry marks'))\n",
    "Total_Marks=(Maths_marks+urdu_marks+English_marks+physics_marks+chemistry_marks)\n",
    "percentage=(Total_Marks/500)*100\n",
    "\n",
    "\n",
    "def grade():\n",
    "    if percentage >=85 and percentage <=100:\n",
    "        print(\"Grade : A-one\")\n",
    "    elif percentage>=80 and percentage <=90:\n",
    "        print(\"Grade : A\")\n",
    "    elif percentage >=75 and percentage <=84:\n",
    "        print(\"Grade : B\")\n",
    "    elif percentage >=70 and percentage <=74:\n",
    "        print(\"Grade : C\")\n",
    "    elif percentage >=65 and percentage <70:\n",
    "        print(\"Grade : D\")\n",
    "    elif percentage >=60 and percentage<65 :\n",
    "        print(\"Grade : Fail\")\n",
    "    else:\n",
    "        print(\"you need to improve yourselve\")\n",
    "\n",
    "\n",
    "print(\"\\n\\n\\n\\n\\n\\n\\n\\n\\n\\n\\n\\n\")\n",
    "\n",
    "print(\"===============================================================================================================\")\n",
    "\n",
    "\n",
    "\n",
    "\n",
    "\n",
    "\n",
    "\n",
    "\n",
    "\n",
    "\n",
    "\n",
    "\n",
    "serial=int(input('Serial Number: '))\n",
    "print('\\t\\t\\t\\t\\t\\tMARKSHEET')\n",
    "print(\"\\n\\n\")\n",
    "print('\\t\\t\\t------------BOARD OF SECONDARY EDUCATION KARACHI------------')\n",
    "print(\"\\n\\t\")\n",
    "ROLL_NUMBER=int(input('ROLL NUMBER : '))\n",
    "print(\"\\n\\t\")\n",
    "name=input('NAME :')\n",
    "print(\"\\n\\t\")\n",
    "print('SUBJECTS\\t\\t\\t\\tTOTAL MARKS\\t\\t\\t\\tOBTAINED MARKS')\n",
    "print(\"\\n\\n\")\n",
    "print(\"Maths\",\"\\t\\t\\t\\t\\t\\t100\",\"\\t\\t\\t\\t\\t\",Maths_marks)\n",
    "print(\"\\n\\t\")\n",
    "print(\"urdu\",\"\\t\\t\\t\\t\\t\\t100\",\"\\t\\t\\t\\t\\t\",urdu_marks)\n",
    "print(\"\\n\\t\")\n",
    "print(\"English\",\"\\t\\t\\t\\t\\t100\",\"\\t\\t\\t\\t\\t\",English_marks)\n",
    "print(\"\\n\\t\")\n",
    "print(\"physcis\",\"\\t\\t\\t\\t\\t100\",\" \\t\\t\\t\\t\\t\",physics_marks)\n",
    "print(\"\\n\\t\")\n",
    "print(\"chemistry\",\"\\t\\t\\t\\t\\t100\",\"\\t\\t\\t\\t\\t\",chemistry_marks)\n",
    "print(\"\\n\\n\")\n",
    "print(\"\\t\\t\\t\\t\\t\\t\\t\\t\\t\\tObtained marks :\",Total_Marks)\n",
    "print(\"\\t\\t\\t\\t\\t\\t\\t\\t\\t\\tPercentage :\",percentage,\"%\")\n",
    "grade()\n",
    "print(\"\\n\\t\")\n",
    "print(\"Controller of Exams : -------------------\")\n",
    "print(\"==============================================================================================================\")"
   ]
  },
  {
   "cell_type": "markdown",
   "metadata": {},
   "source": [
    "# PROGRAM NO # 5"
   ]
  },
  {
   "cell_type": "code",
   "execution_count": 33,
   "metadata": {},
   "outputs": [
    {
     "name": "stdout",
     "output_type": "stream",
     "text": [
      "1 2 3 4 5 \n",
      "\n",
      "2 4 6 8 10 \n",
      "\n",
      "3 6 9 12 15 \n",
      "\n",
      "4 8 12 16 20 \n",
      "\n",
      "5 10 15 20 25 \n",
      "\n"
     ]
    }
   ],
   "source": [
    "#generate a table from initial value to final\n",
    "for i in range(1,6):\n",
    "    for j in range(1,6):\n",
    "        k = i *j\n",
    "        print(k,end=(' '))\n",
    "    print(\"\\n\")"
   ]
  },
  {
   "cell_type": "markdown",
   "metadata": {},
   "source": [
    "# PROGRAM NO # 6"
   ]
  },
  {
   "cell_type": "code",
   "execution_count": 47,
   "metadata": {
    "scrolled": true
   },
   "outputs": [
    {
     "name": "stdout",
     "output_type": "stream",
     "text": [
      "[2, 2, 2]\n",
      "[2, 2, 2]\n",
      "[2, 2, 2]\n"
     ]
    }
   ],
   "source": [
    "# in this prgogram we are multiplying two matrices\n",
    "x=[[1,1,1],\n",
    "  [1,1,1,],\n",
    "  [1,1,1]]\n",
    "y=[[2,2,2],\n",
    "  [2,2,2],\n",
    "  [2,2,2]]\n",
    "result=[[0,0,0],\n",
    "       [0,0,0],\n",
    "       [0,0,0]]\n",
    "#iterate through rows\n",
    "for i in range(len(x)):\n",
    "    #iterate through columns\n",
    "    for j in range(len(y)):\n",
    "        result[i][j]=x[i][j]*y[i][j]\n",
    "# now for result\n",
    "for r in result:\n",
    "    print(r)"
   ]
  },
  {
   "cell_type": "code",
   "execution_count": 56,
   "metadata": {},
   "outputs": [
    {
     "name": "stdout",
     "output_type": "stream",
     "text": [
      "[2, 3, 5]\n",
      "[4, 3, 5]\n",
      "[5, 2, 3]\n"
     ]
    }
   ],
   "source": [
    "#this program is used to add up two matrices\n",
    "x=[[1,2,3],\n",
    "  [1,2,3],\n",
    "  [1,1,1]]\n",
    "y=[[1,1,2],\n",
    "  [3,1,2],\n",
    "  [4,1,2]]\n",
    "result=[[0,0,0],\n",
    "       [0,0,0],\n",
    "       [0,0,0]]\n",
    "#iterate through colums\n",
    "for i in range(len(x)):\n",
    "    #terate through rows\n",
    "    for j in range(len(y)):\n",
    "        result[i][j]=x[i][j]+y[i][j]\n",
    "for r in result:\n",
    "    print(r)"
   ]
  },
  {
   "cell_type": "code",
   "execution_count": null,
   "metadata": {},
   "outputs": [],
   "source": []
  }
 ],
 "metadata": {
  "kernelspec": {
   "display_name": "Python 3",
   "language": "python",
   "name": "python3"
  },
  "language_info": {
   "codemirror_mode": {
    "name": "ipython",
    "version": 3
   },
   "file_extension": ".py",
   "mimetype": "text/x-python",
   "name": "python",
   "nbconvert_exporter": "python",
   "pygments_lexer": "ipython3",
   "version": "3.7.4"
  }
 },
 "nbformat": 4,
 "nbformat_minor": 2
}
