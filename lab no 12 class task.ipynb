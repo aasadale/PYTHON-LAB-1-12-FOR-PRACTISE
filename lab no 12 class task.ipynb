{
 "cells": [
  {
   "cell_type": "code",
   "execution_count": 5,
   "metadata": {},
   "outputs": [
    {
     "name": "stdout",
     "output_type": "stream",
     "text": [
      "[2, 4, 6]\n"
     ]
    }
   ],
   "source": [
    "list=[1,2,3,4,5,6,7]\n",
    "output_list=[]\n",
    "for var in list:\n",
    "    if var %2==0:\n",
    "        output_list.append(var)\n",
    "print(output_list)"
   ]
  },
  {
   "cell_type": "code",
   "execution_count": 9,
   "metadata": {},
   "outputs": [
    {
     "name": "stdout",
     "output_type": "stream",
     "text": [
      "[2, 4, 6, 8, 10, 12, 14, 16]\n"
     ]
    }
   ],
   "source": [
    "list=[1,2,3,4,5,6,7,8,9,10,11,12,13,14,15,16]\n",
    "comp=[var for var in list if var %2==0]\n",
    "print(comp)"
   ]
  },
  {
   "cell_type": "code",
   "execution_count": 18,
   "metadata": {},
   "outputs": [
    {
     "name": "stdout",
     "output_type": "stream",
     "text": [
      "[1, 4, 9, 16, 25, 36, 49, 64, 81]\n"
     ]
    }
   ],
   "source": [
    "list_using_comp=[var**2 for var in range(1,10)]\n",
    "print(list_using_comp)"
   ]
  },
  {
   "cell_type": "code",
   "execution_count": 7,
   "metadata": {},
   "outputs": [
    {
     "name": "stdout",
     "output_type": "stream",
     "text": [
      "{'d': 4}\n"
     ]
    }
   ],
   "source": [
    "dictionary={'a':1,'b':2,'c':3,'d':4}\n",
    "double_dict={k:v for (k,v) in dictionary.items() if v>2 if v%2==0}\n",
    "print(double_dict)"
   ]
  },
  {
   "cell_type": "code",
   "execution_count": 17,
   "metadata": {},
   "outputs": [
    {
     "name": "stdout",
     "output_type": "stream",
     "text": [
      "{'first': {1}, 'second': {2}, 'third': {3}, 'forth': {4}}\n"
     ]
    }
   ],
   "source": [
    "dictionary={'first':{'a':1},'second':{'b':2},'third':{'c':3},'forth':{'d':4}}\n",
    "nested_dict={outer_k:{inner_v for (inner_k,inner_v) in outer_v.items()} for (outer_k,outer_v) in dictionary.items()}\n",
    "print(nested_dict)"
   ]
  },
  {
   "cell_type": "code",
   "execution_count": 34,
   "metadata": {},
   "outputs": [
    {
     "name": "stdout",
     "output_type": "stream",
     "text": [
      "729\n"
     ]
    }
   ],
   "source": [
    "c=lambda x:x*x*x\n",
    "print(c(9))"
   ]
  },
  {
   "cell_type": "code",
   "execution_count": 44,
   "metadata": {},
   "outputs": [
    {
     "name": "stdout",
     "output_type": "stream",
     "text": [
      "[1, 5, 9, 3, 15, 17]\n"
     ]
    }
   ],
   "source": [
    "list_=[1,5,8,9,6,4,3,2,12,14,15,17,18]\n",
    "final=list(filter(lambda x: (x %2 !=0),list_))\n",
    "print(final)"
   ]
  }
 ],
 "metadata": {
  "kernelspec": {
   "display_name": "Python 3",
   "language": "python",
   "name": "python3"
  },
  "language_info": {
   "codemirror_mode": {
    "name": "ipython",
    "version": 3
   },
   "file_extension": ".py",
   "mimetype": "text/x-python",
   "name": "python",
   "nbconvert_exporter": "python",
   "pygments_lexer": "ipython3",
   "version": "3.7.4"
  }
 },
 "nbformat": 4,
 "nbformat_minor": 2
}
