{
 "cells": [
  {
   "cell_type": "markdown",
   "metadata": {},
   "source": [
    "# PROGRAM NO # 1"
   ]
  },
  {
   "cell_type": "markdown",
   "metadata": {},
   "source": [
    "**OBJECT:**\n",
    "    **OBJECT in the oop is the collection of data and method that acts on those data**\n",
    "    "
   ]
  },
  {
   "cell_type": "markdown",
   "metadata": {},
   "source": [
    "# PROGRAM NO  # 3"
   ]
  },
  {
   "cell_type": "code",
   "execution_count": 5,
   "metadata": {},
   "outputs": [
    {
     "name": "stdout",
     "output_type": "stream",
     "text": [
      "Number of Rooms :  5\n",
      "Rent Cost :  700 $\n",
      "Parking Available or Not :  yes\n",
      "Area of Banglow :  300 square yards\n",
      "None\n",
      "Number of Rooms :  12\n",
      "Rent Cost :  25000 $\n",
      "Parking Available or Not :  yes\n",
      "Area of Banglow :  650 square yards\n",
      "None\n"
     ]
    }
   ],
   "source": [
    "class house:\n",
    "    def __init__(self,room,rent,parking,location):\n",
    "\n",
    "        self.room = room\n",
    "        self.parking = parking\n",
    "        self.location=location\n",
    "        self.rent = rent\n",
    "    def location(self,location):\n",
    "        self.location = location\n",
    "\n",
    "\n",
    "class Banglow(house):\n",
    "    def details(self,area):\n",
    "        print(\"Number of Rooms : \",self.room)\n",
    "        print(\"Rent Cost : \",self.rent,\"$\")\n",
    "        print(\"Parking Available or Not : \",self.parking)\n",
    "        print(\"Area of Banglow : \",area ,\"square yards\")\n",
    "\n",
    "class Flats(house):\n",
    "    def details(self,area):\n",
    "        print(\"Number of Rooms : \",self.room)\n",
    "        print(\"Rent Cost : \",self.rent,\"$\")\n",
    "        print(\"Parking Available or Not : \",self.parking)\n",
    "        print(\"Area of Banglow : \",area ,\"square yards\")\n",
    "\n",
    "flat1 = Flats(\"5\",700,\"yes\",\"Tariq Road\")\n",
    "Banglow1 = Banglow(12,25000,'yes','Bahadurabad')\n",
    "\n",
    "print(flat1.details(\"300\"))\n",
    "print(Banglow1.details(650))\n"
   ]
  },
  {
   "cell_type": "markdown",
   "metadata": {},
   "source": [
    "# PROGRAM NO # 4"
   ]
  },
  {
   "cell_type": "code",
   "execution_count": 7,
   "metadata": {},
   "outputs": [
    {
     "name": "stdout",
     "output_type": "stream",
     "text": [
      "Model of Car :  2018\n",
      "Make of Car :  2017\n",
      "Color of Car :  red\n",
      "Price of Car :  50000\n",
      "type of Car :  sports\n",
      "None\n",
      "Seating Capacity :  5\n",
      "None\n"
     ]
    }
   ],
   "source": [
    "class honda:\n",
    "    def __init__(self,model,make,color,price,type):\n",
    "        self.model = model\n",
    "        self.make = make\n",
    "        self.color = color\n",
    "        self.price = price\n",
    "        self.type = type\n",
    "\n",
    "    def description(self):\n",
    "        print(\"Model of Car : \",self.model)\n",
    "        print(\"Make of Car : \",self.make)\n",
    "        print(\"Color of Car : \",self.color)\n",
    "        print(\"Price of Car : \",self.price)\n",
    "        print(\"type of Car : \",self.type)\n",
    "\n",
    "class sedan(honda):\n",
    "    def details(self,seating):\n",
    "        print(\"Seating Capacity : \",seating)\n",
    "\n",
    "class CIVIC(honda):\n",
    "    def details(self,suspensions):\n",
    "        print(\"suspensions dimensions : \",suspensions)\n",
    "\n",
    "class Hatchback(honda):\n",
    "    def details(self,trunk):\n",
    "        print(\"Trunk Dimensions\",trunk)\n",
    "\n",
    "class minicab(honda):\n",
    "    def details(self,load):\n",
    "        print(\"load capacity : \",load , \"KGs\")\n",
    "\n",
    "Civic = sedan(2018,2017,'red',50000,'sports')\n",
    "\n",
    "print(Civic.description())\n",
    "print(Civic.details(5))"
   ]
  },
  {
   "cell_type": "markdown",
   "metadata": {},
   "source": [
    "# PROGRAM NO # 5"
   ]
  },
  {
   "cell_type": "code",
   "execution_count": 18,
   "metadata": {},
   "outputs": [
    {
     "name": "stdout",
     "output_type": "stream",
     "text": [
      "Name of Plant :  cactus\n",
      "Area of Plant :  North-western Area\n",
      "Size of plant :  50\n",
      "Smell of Plant :  cucmber-type\n",
      "None\n",
      "Wood Type :  timber\n"
     ]
    }
   ],
   "source": [
    "class plant:\n",
    "    def __init__(self,name,area,size,smell):\n",
    "        self.name = name\n",
    "        self.area = area\n",
    "        self.size = size\n",
    "        self.smell = smell\n",
    "    def description(self):\n",
    "        print(\"Name of Plant : \",self.name)\n",
    "        print(\"Area of Plant : \",self.area)\n",
    "        print(\"Size of plant : \",self.size)\n",
    "        print(\"Smell of Plant : \",self.smell)\n",
    "\n",
    "class Fruit(plant):\n",
    "    def details(self,Fruit,taste):\n",
    "        print(plant.description(self))\n",
    "        print(\"Fruit Name : \",Fruit)\n",
    "        print(\"Taste of Fruit : \",taste)\n",
    "\n",
    "class nonfruit(plant):\n",
    "    def details(self,wood):\n",
    "        print(plant.description(self))\n",
    "        print(\"Wood Type : \",wood)\n",
    "\n",
    "cactus = nonfruit('cactus','North-western Area','50','cucmber-type')\n",
    "\n",
    "cactus.details(\"timber\")"
   ]
  },
  {
   "cell_type": "markdown",
   "metadata": {},
   "source": [
    "# PROGRAM NO # 6"
   ]
  },
  {
   "cell_type": "code",
   "execution_count": 15,
   "metadata": {},
   "outputs": [
    {
     "name": "stdout",
     "output_type": "stream",
     "text": [
      "Name of Teacher :  ASAD\n",
      "Department of Teacher :  SE\n",
      "Experience of Teacher :  28 Years\n",
      "None\n",
      "Name of Student  :  HASEEB TARIQ\n",
      "Department of Student :  CS\n",
      "Semester of Student  :  VIII\n",
      "None\n"
     ]
    }
   ],
   "source": [
    "class teacher:\n",
    "    def __init__(self,name,department,exp):\n",
    "        self.name = name\n",
    "        self.department = department\n",
    "        self.exp = exp\n",
    "\n",
    "    def description(self):\n",
    "        print(\"Name of Teacher : \",self.name)\n",
    "        print(\"Department of Teacher : \",self.department)\n",
    "        print(\"Experience of Teacher : \",self.exp , \"Years\")\n",
    "\n",
    "ASAD = teacher(\"ASAD\",'SE',28)\n",
    "print(ASAD.description())\n",
    "\n",
    "class students:\n",
    "    def __init__(self,name , department,semester):\n",
    "        self.name = name\n",
    "        self.department = department\n",
    "        self.semester = semester\n",
    "    def description(self):\n",
    "        print(\"Name of Student  : \",self.name)\n",
    "        print(\"Department of Student : \",self.department)\n",
    "        print(\"Semester of Student  : \",self.semester )\n",
    "\n",
    "samad = students(\"HASEEB TARIQ\",\"CS\",'VIII')\n",
    "print(samad.description())"
   ]
  },
  {
   "cell_type": "markdown",
   "metadata": {},
   "source": [
    "# PROGRAM NO # 7"
   ]
  },
  {
   "cell_type": "code",
   "execution_count": 19,
   "metadata": {},
   "outputs": [
    {
     "name": "stdout",
     "output_type": "stream",
     "text": [
      "Name of Plant :  cactus\n",
      "Area of Plant :  North-western Area\n",
      "Size of plant :  50\n",
      "Smell of Plant :  cucmber-type\n",
      "None\n",
      "Wood Type :  dry wood\n"
     ]
    }
   ],
   "source": [
    "class plant:\n",
    "    def __init__(self,name,area,size,smell):\n",
    "        self.name = name\n",
    "        self.area = area\n",
    "        self.size = size\n",
    "        self.smell = smell\n",
    "    def description(self):\n",
    "        print(\"Name of Plant : \",self.name)\n",
    "        print(\"Area of Plant : \",self.area)\n",
    "        print(\"Size of plant : \",self.size)\n",
    "        print(\"Smell of Plant : \",self.smell)\n",
    "\n",
    "class Fruit(plant):\n",
    "    def details(self,Fruit,taste):\n",
    "        print(plant.description(self))\n",
    "        print(\"Fruit Name : \",Fruit)\n",
    "        print(\"Taste of Fruit : \",taste)\n",
    "\n",
    "class nonfruit(plant):\n",
    "    def details(self,wood):\n",
    "        print(plant.description(self))\n",
    "        print(\"Wood Type : \",wood)\n",
    "\n",
    "cactus = nonfruit('cactus','North-western Area','50','cucmber-type')\n",
    "\n",
    "cactus.details(\"dry wood\")"
   ]
  },
  {
   "cell_type": "markdown",
   "metadata": {},
   "source": [
    "# PRACTISE QUESTIONS"
   ]
  },
  {
   "cell_type": "code",
   "execution_count": 1,
   "metadata": {},
   "outputs": [
    {
     "name": "stdout",
     "output_type": "stream",
     "text": [
      "jasmine is a good flower and its color is purple\n",
      "jasmine has sweet smell\n"
     ]
    }
   ],
   "source": [
    "class Plant:\n",
    "    def __init__(self,name,smell,of_type):\n",
    "        self.name=name\n",
    "        self.smell=smell\n",
    "        self.of_type=of_type\n",
    "    def about(self,color):\n",
    "        return \"{} is a good flower and its color is {}\".format(self.name,color)\n",
    "    def smell1(self):\n",
    "        return \"{} has {} smell\".format(self.name,self.smell)\n",
    "jasmine=Plant(\"jasmine\",\"sweet\",\"dry_wood\")\n",
    "print(jasmine.about(\"purple\"))\n",
    "print(jasmine.smell1())"
   ]
  },
  {
   "cell_type": "code",
   "execution_count": 2,
   "metadata": {},
   "outputs": [
    {
     "name": "stdout",
     "output_type": "stream",
     "text": [
      " The power of your engine is600cc :\n",
      "The color of your car is RED \n",
      "The model of your car is 2019 \n",
      "The transmition of your car is Automatic \n",
      "The window of your car is available \n",
      "None\n"
     ]
    }
   ],
   "source": [
    "class car:\n",
    "    def __init__(self,engine,color,model):\n",
    "        self.engine=engine\n",
    "        self.color=color\n",
    "        self.model=model\n",
    "class mehran(car):\n",
    "    def suzuki(self,transmition,power_window):\n",
    "        print(\" The power of your engine is{} :\".format(self.engine))\n",
    "        print(\"The color of your car is {} \".format(self.color))\n",
    "        print(\"The model of your car is {} \".format(self.model))\n",
    "        print(\"The transmition of your car is {} \".format(transmition))\n",
    "        print(\"The window of your car is {} \".format(power_window))\n",
    "a = mehran('600cc','RED', \"2019\")\n",
    "print(a.suzuki('Automatic',\"available\"))"
   ]
  },
  {
   "cell_type": "code",
   "execution_count": 3,
   "metadata": {},
   "outputs": [
    {
     "name": "stdout",
     "output_type": "stream",
     "text": [
      "The name of teacher is Asad\n",
      "The age of teacher is 30\n",
      "The qualification of teacher is master\n",
      "The course of teacher is programming\n",
      "The subject of student is \n"
     ]
    }
   ],
   "source": [
    "class teachers():\n",
    "    def __init__(self,name,age,qualification,course):\n",
    "        self.name=name\n",
    "        self.age=age\n",
    "        self.qualification=qualification\n",
    "        self.course=course\n",
    "class students(teachers):\n",
    "    def asadali(self,subject):\n",
    "        print(\"The name of teacher is {}\".format(self.name))\n",
    "        print(\"The age of teacher is {}\".format(self.age))\n",
    "        print(\"The qualification of teacher is {}\".format(self.qualification))\n",
    "        print(\"The course of teacher is {}\".format(self.course))\n",
    "        print(\"The subject of student is \".format(subject))\n",
    "a=students(\"Asad\",'30','master','programming')\n",
    "a.asadali('islamiat')"
   ]
  },
  {
   "cell_type": "code",
   "execution_count": 4,
   "metadata": {},
   "outputs": [
    {
     "name": "stdout",
     "output_type": "stream",
     "text": [
      "The location of house is Fb area \n",
      "The area of house is 120 sq yards \n",
      "The sector of house is North-B\n",
      "The parking is available in this house \n",
      "The no of rooms in this house is 4 :\n",
      "There is availability of power supply \n",
      "The banglow is of luxurious type \n",
      "The banglow cost 100000 $\n"
     ]
    }
   ],
   "source": [
    "class House:\n",
    "    def __init__ (self,location,area,sector,parking):\n",
    "        self.location=location\n",
    "        self.area=area\n",
    "        self.sector=sector\n",
    "        self.parking=parking\n",
    "class flats(House):\n",
    "    def h_flats(self,no_of_rooms,power_supply):\n",
    "        print(\"The location of house is {} \".format(self.location))\n",
    "        print(\"The area of house is {} \".format(self.area))\n",
    "        print(\"The sector of house is {}\".format(self.sector))\n",
    "        print(\"The parking is {} in this house \".format(self.parking))\n",
    "        print(\"The no of rooms in this house is {} :\".format(no_of_rooms))\n",
    "        print(\"There is {} of power supply \".format(power_supply))\n",
    "class banglows(House):\n",
    "    def Banglow(self,of_type,price):\n",
    "        print(\"The banglow is of {} type \".format(of_type))\n",
    "        print(\"The banglow cost {} $\" .format(price))\n",
    "a=flats(\"Fb area\",\"120 sq yards\",\"North-B\",\"available\")\n",
    "a.h_flats(4,\"availability\")\n",
    "g=banglows(\"Fb area\",\"120 sq yards\",\"North-B\",\"available\")\n",
    "g.Banglow(\"luxurious\",\"100000\")"
   ]
  },
  {
   "cell_type": "code",
   "execution_count": null,
   "metadata": {},
   "outputs": [],
   "source": []
  }
 ],
 "metadata": {
  "kernelspec": {
   "display_name": "Python 3",
   "language": "python",
   "name": "python3"
  },
  "language_info": {
   "codemirror_mode": {
    "name": "ipython",
    "version": 3
   },
   "file_extension": ".py",
   "mimetype": "text/x-python",
   "name": "python",
   "nbconvert_exporter": "python",
   "pygments_lexer": "ipython3",
   "version": "3.7.4"
  }
 },
 "nbformat": 4,
 "nbformat_minor": 2
}
