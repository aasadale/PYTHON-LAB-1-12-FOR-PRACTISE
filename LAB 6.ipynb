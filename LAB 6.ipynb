{
 "cells": [
  {
   "cell_type": "markdown",
   "metadata": {},
   "source": [
    "# PROGRAM NO # 1"
   ]
  },
  {
   "cell_type": "code",
   "execution_count": 127,
   "metadata": {},
   "outputs": [
    {
     "name": "stdout",
     "output_type": "stream",
     "text": [
      "Saturday, Jan 04 2020\n",
      "I will meet you on Saturday Jan 04 at 09:44 PM\n",
      "09 01 PM Central Daylight Time on Jan/04/2020\n"
     ]
    }
   ],
   "source": [
    "import time\n",
    "a=time.strftime('%A, %b %d %',time.localtime())\n",
    "print(a)\n",
    "b=time.strftime('I will meet you on %A %b %d at %I:%M %p',time.localtime())\n",
    "print(b)\n",
    "c=time.strftime('%I %m %p Central Daylight Time on %b/%d/%Y',time.localtime())\n",
    "print(c)"
   ]
  },
  {
   "cell_type": "markdown",
   "metadata": {},
   "source": [
    "# PROGRAM NO # 2"
   ]
  },
  {
   "cell_type": "code",
   "execution_count": 18,
   "metadata": {},
   "outputs": [
    {
     "name": "stdout",
     "output_type": "stream",
     "text": [
      "2\n",
      "13\n",
      "it will be a cloudy day today\n"
     ]
    }
   ],
   "source": [
    "#in this program  we are going to count the string repeted in string and will find index and will replace a word\n",
    "\n",
    "forecast=\"it will be a sunny day today\"\n",
    "a=forecast.count('day')   # using count to count the repetation of word day in given string\n",
    "print(a)\n",
    "b=forecast.find('sunny') # using index function to find the position of required word in given string \n",
    "print(b)\n",
    "c=forecast.replace('sunny','cloudy')  # using replace to replace a word by other word\n",
    "print(c)"
   ]
  },
  {
   "cell_type": "markdown",
   "metadata": {},
   "source": [
    "# PROGRAM NO # 3"
   ]
  },
  {
   "cell_type": "code",
   "execution_count": 8,
   "metadata": {},
   "outputs": [
    {
     "name": "stdout",
     "output_type": "stream",
     "text": [
      "ASAD ALI \n",
      "Student \n",
      "Software Engineering \n",
      "Usman Institue of Technology \n",
      "Gulshan-e-Iqbal \n",
      "karachi\n"
     ]
    }
   ],
   "source": [
    "#in this program we are going to generate the mail labels\n",
    "def mailaddress():\n",
    "    name='ASAD ALI'\n",
    "    field='Student'\n",
    "    department='Software Engineering'\n",
    "    university='Usman Institue of Technology'\n",
    "    area='Gulshan-e-Iqbal'\n",
    "    city='karachi'\n",
    "    print(\"{0} \\n{1} \\n{2} \\n{3} \\n{4} \\n{5}\".format(name,field,department,university,area,city))\n",
    "mailaddress()"
   ]
  },
  {
   "cell_type": "markdown",
   "metadata": {},
   "source": [
    "# PROGRAM NO # 4"
   ]
  },
  {
   "cell_type": "code",
   "execution_count": 129,
   "metadata": {},
   "outputs": [
    {
     "name": "stdout",
     "output_type": "stream",
     "text": [
      "0 2 3 4 6 8 9 10 12 14 15 16 "
     ]
    }
   ],
   "source": [
    "def even(n):\n",
    "    for i in range(n):\n",
    "        if i%2==0 or i%3==0:\n",
    "            print(i,end=\" \")\n",
    "even(17)"
   ]
  },
  {
   "cell_type": "markdown",
   "metadata": {},
   "source": [
    "# PROGRAM NO # 5"
   ]
  },
  {
   "cell_type": "code",
   "execution_count": 3,
   "metadata": {},
   "outputs": [
    {
     "name": "stdout",
     "output_type": "stream",
     "text": [
      "Enter the number of month :11\n",
      "dec\n"
     ]
    }
   ],
   "source": [
    "x=int(input(\"Enter the number of month :\"))\n",
    "def month():\n",
    "    a=['jan','feb','mar','apr','may','jun','jul','aug','sept','oct','nov','dec']\n",
    "    print(a[x])\n",
    "month()"
   ]
  },
  {
   "cell_type": "markdown",
   "metadata": {},
   "source": [
    "# PROGRAM NO # 6"
   ]
  },
  {
   "cell_type": "code",
   "execution_count": 111,
   "metadata": {},
   "outputs": [
    {
     "name": "stdout",
     "output_type": "stream",
     "text": [
      "How do you spell winner?\n",
      "I know,i know\n",
      "UITIANS\n",
      "And thats how you spell winner !\n",
      "Go Uitians\n"
     ]
    }
   ],
   "source": [
    "def cheer(string):\n",
    "    a='How do you spell winner?'\n",
    "    b='I know,i know'\n",
    "    c=\"UITIANS\"\n",
    "    d= \"And thats how you spell winner !\"\n",
    "    e=\"Go Uitians\"\n",
    "    print(\"{}\\n{}\\n{}\\n{}\\n{}\".format(a,b,c,d,e))\n",
    "cheer('uitians')"
   ]
  },
  {
   "cell_type": "markdown",
   "metadata": {},
   "source": [
    "# PROGRAM NO # 7"
   ]
  },
  {
   "cell_type": "code",
   "execution_count": 1,
   "metadata": {},
   "outputs": [
    {
     "name": "stdout",
     "output_type": "stream",
     "text": [
      "User name :ASAD ALI\n",
      "******************************\n",
      "Friday Jan/24/20 07:16 PM\n",
      "******************************\n",
      "Welcome to Burger point\n",
      "\n",
      "\t\n",
      "Burger type :zinger_burger\n",
      "-----------------------------------------------------\n",
      "Quantity :5\n",
      "-----------------------------------------------------\n",
      "The total bill for your order is : 751.3 rupees\n",
      "--------------------------------------------------\n",
      "         |||||||||||||||||||||||||\n",
      "\n",
      "\n",
      "Do you need more item !yes\n",
      "---------------------------------------------------\n",
      "Burger type :shami_burger\n",
      "-----------------------------------------------------\n",
      "Quantity :3\n",
      "-----------------------------------------------------\n",
      "The total bill for your order is : 451.3 rupees\n",
      "--------------------------------------------------\n",
      "         |||||||||||||||||||||||||\n",
      "\n",
      "\n",
      "Do you need more item !no\n",
      "---------------------------------------------------\n",
      "finish !\n"
     ]
    }
   ],
   "source": [
    "#Here we are going to design an application of samll POS \n",
    "print(\"        Recipt\".format())\n",
    "print(\"******************************\")\n",
    "a=input(\"User name :\")\n",
    "print(\"******************************\")\n",
    "import time\n",
    "f=time.strftime(\"%A %b/%d/%y %I:%M %p\",time.localtime())\n",
    "print(f)\n",
    "print(\"******************************\")\n",
    "print(\"Welcome to Burger point\")\n",
    "print(\"\\n\\t\")\n",
    "\n",
    "def burgertype():\n",
    "    d=(input(\"Burger type :\"))\n",
    "    print(\"-----------------------------------------------------\")\n",
    "    g=int(input(\"Quantity :\"))\n",
    "    print(\"-----------------------------------------------------\")\n",
    "    zinger_burger=150\n",
    "    broast=180\n",
    "    chicken_burger=110\n",
    "    beef_burger=220\n",
    "    shami_burger=80\n",
    "    shawarma=120\n",
    "    if d==\"zinger_burger\":\n",
    "        amount=(zinger_burger *g)\n",
    "        #amount with gst\n",
    "        amount1=(amount+1.3)\n",
    "        print(\"The total bill for your order is :\",amount1,\"rupees\")\n",
    "        print(\"--------------------------------------------------\")\n",
    "        print(\"         |||||||||||||||||||||||||\".format())\n",
    "    if d==\"broast\":\n",
    "        amounta=(broast *g)\n",
    "        #amount with gst\n",
    "        amount2=(amounta+1.3)\n",
    "        print(\"The total bill for your order is :\",amount2,\"rupees\")\n",
    "        print(\"--------------------------------------------------\")\n",
    "        print(\"         |||||||||||||||||||||||||\".format())\n",
    "        \n",
    "    elif d==\"chicken_burger\":\n",
    "        amountb=(chicken_burger *g)\n",
    "        #amount with gst\n",
    "        amount3=(amountb+1.3)\n",
    "        print(\"The total bill for your order is :\",amount3,\"rupees\")\n",
    "        print(\"--------------------------------------------------\")\n",
    "        print(\"         |||||||||||||||||||||||||\".format())\n",
    "    elif d==\"beef_burger\":\n",
    "        amountc=(zinger_burger *g)\n",
    "        #amount with gst\n",
    "        amount4=(amountc+1.3)\n",
    "        print(\"The total bill for your order is :\",amount4,\"rupees\")\n",
    "        print(\"--------------------------------------------------\")\n",
    "        print(\"         |||||||||||||||||||||||||\".format())\n",
    "    elif d==\"shami_burger\":\n",
    "        amountd=(zinger_burger *g)\n",
    "        #amount with gst\n",
    "        amount5=(amountd+1.3)\n",
    "        print(\"The total bill for your order is :\",amount5,\"rupees\")\n",
    "        print(\"--------------------------------------------------\")\n",
    "        print(\"         |||||||||||||||||||||||||\".format())\n",
    "    elif d==\"shawarma\":\n",
    "        amounte=(zinger_burger *g)\n",
    "        #amount with gst\n",
    "        amount6=(amounte+1.3)\n",
    "        print(\"The total bill for your order is :\",amount6,\"rupees\")\n",
    "        print(\"--------------------------------------------------\")\n",
    "        print(\"              ||||||||||||||||||||\".format())\n",
    "        print(\"\\n\\n\\t\")\n",
    "    while True:\n",
    "        print(\"\\n\")\n",
    "        i=input(\"Do you need more item !\")\n",
    "        print(\"---------------------------------------------------\")\n",
    "        if i==\"yes\":\n",
    "            burgertype()\n",
    "        else:\n",
    "            print(\"finish !\")\n",
    "        break\n",
    "burgertype()       "
   ]
  },
  {
   "cell_type": "markdown",
   "metadata": {},
   "source": [
    "# PROGRAM NO # 8"
   ]
  },
  {
   "cell_type": "code",
   "execution_count": 159,
   "metadata": {},
   "outputs": [
    {
     "name": "stdout",
     "output_type": "stream",
     "text": [
      "BINARY NUMBERS \t\tOCTAL NUMBERS\tDECIMAL NUMBER\t\tHEXADECIMAL NUMBER\n",
      "\n",
      "\t\n",
      "Binary:1\t\tOctal:1\t\tDecimal:1\t\tHexadecimal:1\n",
      "\n",
      "\t\n",
      "Binary:10\t\tOctal:2\t\tDecimal:2\t\tHexadecimal:2\n",
      "\n",
      "\t\n",
      "Binary:11\t\tOctal:3\t\tDecimal:3\t\tHexadecimal:3\n",
      "\n",
      "\t\n",
      "Binary:100\t\tOctal:4\t\tDecimal:4\t\tHexadecimal:4\n",
      "\n",
      "\t\n",
      "Binary:101\t\tOctal:5\t\tDecimal:5\t\tHexadecimal:5\n",
      "\n",
      "\t\n",
      "Binary:110\t\tOctal:6\t\tDecimal:6\t\tHexadecimal:6\n",
      "\n",
      "\t\n",
      "Binary:111\t\tOctal:7\t\tDecimal:7\t\tHexadecimal:7\n",
      "\n",
      "\t\n",
      "Binary:1000\t\tOctal:10\t\tDecimal:8\t\tHexadecimal:8\n",
      "\n",
      "\t\n",
      "Binary:1001\t\tOctal:11\t\tDecimal:9\t\tHexadecimal:9\n",
      "\n",
      "\t\n",
      "Binary:1010\t\tOctal:12\t\tDecimal:10\t\tHexadecimal:a\n",
      "\n",
      "\t\n",
      "Binary:1011\t\tOctal:13\t\tDecimal:11\t\tHexadecimal:b\n",
      "\n",
      "\t\n",
      "Binary:1100\t\tOctal:14\t\tDecimal:12\t\tHexadecimal:c\n",
      "\n",
      "\t\n",
      "Binary:1101\t\tOctal:15\t\tDecimal:13\t\tHexadecimal:d\n",
      "\n",
      "\t\n",
      "Binary:1110\t\tOctal:16\t\tDecimal:14\t\tHexadecimal:e\n",
      "\n",
      "\t\n",
      "Binary:1111\t\tOctal:17\t\tDecimal:15\t\tHexadecimal:f\n",
      "\n",
      "\t\n",
      "Binary:10000\t\tOctal:20\t\tDecimal:16\t\tHexadecimal:10\n"
     ]
    }
   ],
   "source": [
    "def binaryconversion(start,end):\n",
    "    print(\"BINARY NUMBERS \\t\\tOCTAL NUMBERS\\tDECIMAL NUMBER\\t\\tHEXADECIMAL NUMBER\")\n",
    "    for i in range(start,end):\n",
    "        print(\"\\n\\t\")\n",
    "        print(\"Binary:{:b}\\t\\tOctal:{:o}\\t\\tDecimal:{:d}\\t\\tHexadecimal:{:x}\".format(i,i,i,i))\n",
    "binaryconversion(1,17)"
   ]
  },
  {
   "cell_type": "markdown",
   "metadata": {},
   "source": [
    "# PROGRAM NO # 8"
   ]
  },
  {
   "cell_type": "code",
   "execution_count": 4,
   "metadata": {},
   "outputs": [
    {
     "name": "stdout",
     "output_type": "stream",
     "text": [
      "Voucher\n",
      "******************\n",
      "Student copy\n",
      "******************\n",
      "Name Asad ali\n",
      "Roll number 066\n",
      "Semester First\n",
      "Semester fees 90000\n",
      "Miscellaneous fees 3500\n",
      "Sports fees 4000\n",
      "-------------------\n",
      "--------Total fees= 97500 ----------\n",
      "\n",
      "\n",
      "-------------------\n",
      "Voucher\n",
      "******************\n",
      "Office copy\n",
      "******************\n",
      "Name Asad ali\n",
      "Roll number 066\n",
      "Semester First\n",
      "Semester fees 90000\n",
      "Miscellaneous fees 3500\n",
      "Sports fees 4000\n",
      "--------Total fees= 97500 ----------\n",
      "\n",
      "\n",
      "-------------------\n",
      "Voucher\n",
      "******************\n",
      "Bank copy\n",
      "******************\n",
      "Name Asad ali\n",
      "Roll number 066\n",
      "Semester First\n",
      "Semester fees 90000\n",
      "Miscellaneous fees 3500\n",
      "Sports fees 4000\n",
      "--------Total fees= 97500 ----------\n"
     ]
    }
   ],
   "source": [
    "print(\"Voucher\")\n",
    "print(\"******************\")\n",
    "print(\"Student copy\")\n",
    "print(\"******************\")\n",
    "dict={'Name':'Asad ali','Roll number':'066','Semester':'First','Semester fees':90000,'Miscellaneous fees':3500,'Sports fees':4000}\n",
    "for x,y in dict.items():\n",
    "    print(x,y)\n",
    "print(\"-------------------\")\n",
    "a=dict['Semester fees']\n",
    "b=dict['Miscellaneous fees']\n",
    "c=dict['Sports fees']\n",
    "d=a+b+c\n",
    "print(\"--------Total fees=\" ,d,'----------')\n",
    "print('\\n')\n",
    "print(\"-------------------\")\n",
    "print(\"Voucher\")\n",
    "print(\"******************\")\n",
    "print(\"Office copy\")\n",
    "print(\"******************\")\n",
    "for i in range(1):\n",
    "    for x,y in dict.items():\n",
    "        print(x,y)\n",
    "a=dict['Semester fees']\n",
    "b=dict['Miscellaneous fees']\n",
    "c=dict['Sports fees']\n",
    "d=a+b+c\n",
    "print(\"--------Total fees=\" ,d,'----------')\n",
    "print('\\n')\n",
    "print(\"-------------------\")\n",
    "print(\"Voucher\")\n",
    "print(\"******************\")\n",
    "print(\"Bank copy\")\n",
    "print(\"******************\")\n",
    "for i in range(1):\n",
    "    for x,y in dict.items():\n",
    "        print(x,y)\n",
    "a=dict['Semester fees']\n",
    "b=dict['Miscellaneous fees']\n",
    "c=dict['Sports fees']\n",
    "d=a+b+c\n",
    "print(\"--------Total fees=\" ,d,'----------')"
   ]
  },
  {
   "cell_type": "markdown",
   "metadata": {},
   "source": [
    "# PROGRAM NO # 10"
   ]
  },
  {
   "cell_type": "code",
   "execution_count": 1,
   "metadata": {},
   "outputs": [
    {
     "name": "stdout",
     "output_type": "stream",
     "text": [
      "\tPSO\t\t\t\t\t\tSHELL\n",
      "\n",
      "\n",
      "\n",
      "1) Premimium Super= 114.24/ltr\t\t\t\t1) Altron premium=115.55/ltr\n",
      "2) High Speed Diesel=129.41/ltr\t\t\t\t2) Action+Diesel=127.41/ltr\n",
      "3) light Speed Diesel=85.33/ltr\t\t\t\t3) LDO=84.33/ltr\n",
      "4) Kerosine oil=94.18/ltr\t\t\t\t4) SKO=97.18/ltr\n",
      "\n",
      "\n",
      "\n",
      "*The first product is cheaper in PSO\n",
      "*The second product is cheaper in SHELL\n",
      "*The third product is cheaper in SHELL\n",
      "*The forth product is cheaper in PSO\n",
      "\n",
      "\n",
      "----FOR PETROL-----\n",
      "Enter Petrol Quantity :500\n",
      "\n",
      "\n",
      "\n",
      "---When petrol quantity is 500/ltr---\n",
      "The price of Petrol in PSO according to given quantity is : 57120.0\n",
      "The price of Pertol in SHELL according to given quantity is : 57775.0\n",
      "\n",
      "\t\n",
      "The price is lesser in PSO \n",
      "\n",
      "\n",
      "\n",
      "-----FOR DIESEL-----\n",
      "Enter diesel quantity 300\n",
      "The price of diesel in PSO is : 38823.0\n",
      "The price of diesel in SHELL is : 38223.0\n",
      "\n",
      "\n",
      "\n",
      "The price of diesel is less in Shell \n",
      "\n",
      "\n",
      "\n",
      "-----FOR KEROSINE OIL-----\n",
      "Enter kersosine oil quantity :20\n",
      "The price of kerosine in PSO  is  1883.6000000000001\n",
      "The price of kerosine in SHELL is : 1943.6000000000001\n",
      "\n",
      "\n",
      "\n",
      "The price of kerosine oil is less in PSO \n"
     ]
    }
   ],
   "source": [
    "#we are going to compare the rates of two petrol pumps\n",
    "print(\"\\tPSO\\t\\t\\t\\t\\t\\tSHELL\")\n",
    "print(\"\\n\\n\")\n",
    "print(\"1) Premimium Super= 114.24/ltr\\t\\t\\t\\t1) Altron premium=115.55/ltr\\n2) High Speed Diesel=129.41/ltr\\t\\t\\t\\t2) Action+Diesel=127.41/ltr\\n3) light Speed Diesel=85.33/ltr\\t\\t\\t\\t3) LDO=84.33/ltr\\n4) Kerosine oil=94.18/ltr\\t\\t\\t\\t4) SKO=97.18/ltr\")\n",
    "#BRAND 1(PSO)\n",
    "Premimium_Super= 114.24 #in ltr\n",
    "High_Speed_Diesel=129.41 #in ltr\n",
    "light_Speed_Diesel=85.33 #in ltr\n",
    "Kerosine_oil=94.18 #in ltr\n",
    "#BRAND 2(SHELL)\n",
    "Altron_premium=115.55 #in ltr\n",
    "Action_plus_Diesel=127.41 #in ltr\n",
    "LDO=84.33 #in ltr\n",
    "SKO=97.18 #in ltr\n",
    "print(\"\\n\\n\")\n",
    "if Premimium_Super>Altron_premium:\n",
    "    print(\"*The first product is cheaper in SHELL\")\n",
    "elif Premimium_Super<Altron_premium:\n",
    "    print(\"*The first product is cheaper in PSO\")\n",
    "if High_Speed_Diesel>Action_plus_Diesel:\n",
    "    print(\"*The second product is cheaper in SHELL\")\n",
    "elif Premimium_Super<Altron_premium:\n",
    "     print(\"*The second product is cheaper in PSO\")\n",
    "if light_Speed_Diesel>LDO:\n",
    "    print(\"*The third product is cheaper in SHELL\")\n",
    "elif  light_Speed_Diesel<LDO:\n",
    "    print(\"*The third product is cheaper in PSO\")\n",
    "if Kerosine_oil>SKO:\n",
    "    print(\"*The forth product is cheaper in SHELL\")\n",
    "elif Kerosine_oil<SKO:\n",
    "    print(\"*The forth product is cheaper in PSO\")\n",
    "print(\"\\n\")\n",
    "print(\"----FOR PETROL-----\")\n",
    "a=int(input(\"Enter Petrol Quantity :\"))\n",
    "print(\"\\n\\n\")\n",
    "print(\"---When petrol quantity is 500/ltr---\")\n",
    "b=a*Premimium_Super\n",
    "print(\"The price of Petrol in PSO according to given quantity is :\",b)\n",
    "c=float(a*Altron_premium)\n",
    "print(\"The price of Pertol in SHELL according to given quantity is :\",c)\n",
    "print(\"\\n\\t\")\n",
    "if c>b:\n",
    "    print(\"The price is lesser in PSO \")\n",
    "else:\n",
    "    print(\"The price is lesser in SHELL \")\n",
    "print(\"\\n\\n\")\n",
    "print(\"-----FOR DIESEL-----\")\n",
    "h=int(input(\"Enter diesel quantity \"))\n",
    "j=h*High_Speed_Diesel\n",
    "print(\"The price of diesel in PSO is :\",j)\n",
    "g=h*Action_plus_Diesel\n",
    "print(\"The price of diesel in SHELL is :\",g)\n",
    "print(\"\\n\\n\")\n",
    "if j>g:\n",
    "    print(\"The price of diesel is less in Shell \")\n",
    "else:\n",
    "    print(\"The price of diesel is less in PSO \")\n",
    "print(\"\\n\\n\")\n",
    "print(\"-----FOR KEROSINE OIL-----\")\n",
    "l=int(input(\"Enter kersosine oil quantity :\"))\n",
    "t=l*Kerosine_oil\n",
    "print(\"The price of kerosine in PSO  is \",t)\n",
    "y=l*SKO\n",
    "print(\"The price of kerosine in SHELL is :\",y)\n",
    "print(\"\\n\\n\")\n",
    "if t>y:\n",
    "    print(\"The price of kersosine is less in SHELL \")\n",
    "else:\n",
    "    print(\"The price of kerosine oil is less in PSO \")"
   ]
  },
  {
   "cell_type": "code",
   "execution_count": null,
   "metadata": {},
   "outputs": [],
   "source": []
  }
 ],
 "metadata": {
  "kernelspec": {
   "display_name": "Python 3",
   "language": "python",
   "name": "python3"
  },
  "language_info": {
   "codemirror_mode": {
    "name": "ipython",
    "version": 3
   },
   "file_extension": ".py",
   "mimetype": "text/x-python",
   "name": "python",
   "nbconvert_exporter": "python",
   "pygments_lexer": "ipython3",
   "version": "3.7.4"
  }
 },
 "nbformat": 4,
 "nbformat_minor": 2
}
