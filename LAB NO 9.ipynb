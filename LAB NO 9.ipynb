{
 "cells": [
  {
   "cell_type": "markdown",
   "metadata": {},
   "source": [
    "# LAB NO # 9 (SETS)"
   ]
  },
  {
   "cell_type": "markdown",
   "metadata": {},
   "source": [
    "# PROGRAM NO # 1"
   ]
  },
  {
   "cell_type": "code",
   "execution_count": 1,
   "metadata": {},
   "outputs": [
    {
     "name": "stdout",
     "output_type": "stream",
     "text": [
      "asad\n",
      "sohaib\n",
      "dani\n",
      "ahsan\n",
      "osama\n",
      "{'osama', 'asad', 'ahsan', 'dani', 'sohaib'}\n"
     ]
    }
   ],
   "source": [
    "a=set()\n",
    "for i in range(5):\n",
    "    s=a.add(input())\n",
    "print(a)"
   ]
  },
  {
   "cell_type": "markdown",
   "metadata": {},
   "source": [
    "# PROGRAM NO # 2"
   ]
  },
  {
   "cell_type": "code",
   "execution_count": 2,
   "metadata": {},
   "outputs": [
    {
     "name": "stdout",
     "output_type": "stream",
     "text": [
      "{'asad', 'daniyal', 'osama'}\n",
      "Remaining students are: 3\n"
     ]
    }
   ],
   "source": [
    "s={'asad','daniyal','osama','sohaib','ahsan'}\n",
    "s.remove('ahsan')\n",
    "s.remove('sohaib')\n",
    "print(s)\n",
    "print(\"Remaining students are:\",len(s))\n",
    "      "
   ]
  },
  {
   "cell_type": "markdown",
   "metadata": {},
   "source": [
    "# PROGRAM NO # 3"
   ]
  },
  {
   "cell_type": "code",
   "execution_count": null,
   "metadata": {},
   "outputs": [
    {
     "name": "stdout",
     "output_type": "stream",
     "text": [
      "{'pizza', 'tikka', 'broast', 'biryani', 'chicken'}\n",
      "\n",
      "\n",
      "Now i have to add some more delicious dishes\n",
      "\n",
      "\n",
      "{'pizza', 'tikka', 'malai boti', 'broast', 'beef boti', 'biryani', 'chicken'}\n",
      "\n",
      "\n",
      "\n",
      "{'tikka', 'malai boti', 'broast', 'beef boti', 'biryani', 'chicken'}\n",
      "{'malai boti', 'broast', 'beef boti', 'biryani', 'chicken'}\n",
      "{'broast', 'beef boti', 'biryani', 'chicken'}\n",
      "{'beef boti', 'biryani', 'chicken'}\n",
      "{'biryani', 'chicken'}\n",
      "{'chicken'}\n",
      "set()\n"
     ]
    }
   ],
   "source": [
    "x={'biryani','tikka','broast','chicken','pizza'}\n",
    "print(x)\n",
    "print('\\n')\n",
    "print(\"Now i have to add some more delicious dishes\")\n",
    "print('\\n')\n",
    "x.add(\"beef boti\")\n",
    "x.add('malai boti')\n",
    "print(x)\n",
    "print(\"\\n\\n\")\n",
    "while True:\n",
    "    if len(x)>0:\n",
    "        x.pop()\n",
    "        print(x)"
   ]
  },
  {
   "cell_type": "markdown",
   "metadata": {},
   "source": [
    "# PROGRAM NO # 4\n",
    "**Write a program which will store numer of items in a set after each purchasing thw item will be pop from the set and comapare its price at the end of the program will give you the total amount of item have been sold.Also find max and min  amount of items sold**"
   ]
  },
  {
   "cell_type": "code",
   "execution_count": null,
   "metadata": {},
   "outputs": [
    {
     "name": "stdout",
     "output_type": "stream",
     "text": [
      "{'pizza', 'chocolate', 'broast', 'tikka', 'bread', 'chicken', 'neutela', 'biryani'}\n",
      "\n",
      "\n",
      "Enter the item you want :pizza\n"
     ]
    }
   ],
   "source": [
    "set={'biryani','tikka','broast','chicken','pizza','chocolate','neutela','bread','chicken'}\n",
    "print(set)\n",
    "print(\"\\n\")\n",
    "s=input(\"Enter the item you want :\")\n",
    "while True:\n",
    "    for i\n",
    "    "
   ]
  },
  {
   "cell_type": "markdown",
   "metadata": {},
   "source": [
    "# PROGRAM NO # 5"
   ]
  },
  {
   "cell_type": "code",
   "execution_count": 6,
   "metadata": {},
   "outputs": [
    {
     "name": "stdout",
     "output_type": "stream",
     "text": [
      "The students who play only cricket are : 9\n",
      "The studetns who play only hockey are : 11\n",
      "The students who play both games are : 10\n"
     ]
    }
   ],
   "source": [
    "universal_set=40\n",
    "Both=10\n",
    "hockey_players=21\n",
    "only_hockey=hockey_players-Both\n",
    "#to find the student who play cricket only\n",
    "cricket_only=(universal_set-Both-hockey_players)\n",
    "print(\"The students who play only cricket are :\",cricket_only)\n",
    "print(\"The studetns who play only hockey are :\",only_hockey)\n",
    "print(\"The students who play both games are :\",Both)"
   ]
  },
  {
   "cell_type": "markdown",
   "metadata": {},
   "source": [
    "# PROGRAM NO # 6"
   ]
  },
  {
   "cell_type": "code",
   "execution_count": 9,
   "metadata": {},
   "outputs": [
    {
     "name": "stdout",
     "output_type": "stream",
     "text": [
      "The only Dog product purchases were : 38\n",
      "The only cat purcahses were : 54\n",
      "The purchases for only Dog and fish are : 36\n",
      "The total purchases were : 179\n"
     ]
    }
   ],
   "source": [
    "dog=83\n",
    "cat=101\n",
    "fish=22\n",
    "DC=31\n",
    "DF=8\n",
    "CF=10\n",
    "DCF=6\n",
    "others=34\n",
    "only_dog=(dog-DC-DF-DCF)\n",
    "print(\"The only Dog product purchases were :\",only_dog)\n",
    "only_cat=cat-DC-CF-DCF\n",
    "print(\"The only cat purcahses were :\",only_cat)\n",
    "only_fish=fish-DF-CF-DCF\n",
    "a=only_dog+only_fish\n",
    "print(\"The purchases for only Dog and fish are :\",a)\n",
    "n=DC+DF+CF+DCF+others+only_dog+only_fish+only_cat\n",
    "print(\"The total purchases were :\",n)"
   ]
  },
  {
   "cell_type": "markdown",
   "metadata": {},
   "source": [
    "# PROGRAM NO # 7"
   ]
  },
  {
   "cell_type": "code",
   "execution_count": 1,
   "metadata": {},
   "outputs": [
    {
     "name": "stdout",
     "output_type": "stream",
     "text": [
      "The only English and Spanish speakers are : 20\n",
      "The people who do not speak one of them : 5\n",
      "The people who only speak french : 11\n",
      "The people who ony speak one of these are : 46\n",
      "The people who speak only two of three are : 46\n"
     ]
    }
   ],
   "source": [
    "english=25\n",
    "spanish=10\n",
    "french=11\n",
    "SE=20\n",
    "EF=17\n",
    "SF=9\n",
    "SEF=13\n",
    "total=110\n",
    "noneofthem=110-(english+spanish+french+SE+EF+SF+SEF)\n",
    "print(\"The only English and Spanish speakers are :\",SE)\n",
    "print(\"The people who do not speak one of them :\",noneofthem)\n",
    "print(\"The people who only speak french :\",french)\n",
    "print(\"The people who ony speak one of these are :\",english+spanish+french)\n",
    "print(\"The people who speak only two of three are :\",SE+EF+SF)"
   ]
  },
  {
   "cell_type": "code",
   "execution_count": null,
   "metadata": {},
   "outputs": [],
   "source": []
  }
 ],
 "metadata": {
  "kernelspec": {
   "display_name": "Python 3",
   "language": "python",
   "name": "python3"
  },
  "language_info": {
   "codemirror_mode": {
    "name": "ipython",
    "version": 3
   },
   "file_extension": ".py",
   "mimetype": "text/x-python",
   "name": "python",
   "nbconvert_exporter": "python",
   "pygments_lexer": "ipython3",
   "version": "3.7.4"
  }
 },
 "nbformat": 4,
 "nbformat_minor": 2
}
