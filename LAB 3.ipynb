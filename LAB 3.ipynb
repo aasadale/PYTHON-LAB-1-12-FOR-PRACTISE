{
 "cells": [
  {
   "cell_type": "markdown",
   "metadata": {},
   "source": [
    "# PROGRAM NO # 1"
   ]
  },
  {
   "cell_type": "code",
   "execution_count": 11,
   "metadata": {},
   "outputs": [
    {
     "name": "stdout",
     "output_type": "stream",
     "text": [
      "linear velocity with first radius is given by: 5.0 m/s\n",
      "\n",
      "\t\n",
      "linear velocity with second radius is given by: 10 m/s\n",
      "\n",
      "\t\n",
      "linear velocity with third radius is given by: 30 m/s\n"
     ]
    }
   ],
   "source": [
    "#to find the linear velocity of object\n",
    "radius1=0.5 #meters\n",
    "radius2=1 #meters\n",
    "radius3=3 #meters\n",
    "#to find velocity with all radius\n",
    "#a\n",
    "w=10 #radians per second\n",
    "velocity1=(radius1*w)\n",
    "print(\"linear velocity with first radius is given by:\",velocity1,\"m/s\")\n",
    "velocity2=(radius2*w)\n",
    "print(\"\\n\\t\")\n",
    "print(\"linear velocity with second radius is given by:\",velocity2,\"m/s\")\n",
    "velocity3=(radius3*w)\n",
    "print(\"\\n\\t\")\n",
    "print(\"linear velocity with third radius is given by:\",velocity3,\"m/s\")"
   ]
  },
  {
   "cell_type": "markdown",
   "metadata": {},
   "source": [
    "# PROGRAM NO # 2"
   ]
  },
  {
   "cell_type": "code",
   "execution_count": 14,
   "metadata": {},
   "outputs": [
    {
     "name": "stdout",
     "output_type": "stream",
     "text": [
      "The linear velocity with first radius is : 2616.5 rad/sec\n",
      "\n",
      "\t\n",
      "The linear velocity with first radius is : 5233.0 rad/sec\n"
     ]
    }
   ],
   "source": [
    "#to find the magnitude of linear velocity\n",
    "r1=5 #cm\n",
    "r2=10 #cm\n",
    "w=523.3 #radians per second\n",
    "v1=(r1*w)\n",
    "print(\"The linear velocity with first radius is :\",v1,\"rad/sec\")\n",
    "print(\"\\n\\t\")\n",
    "v2=(r2*w)\n",
    "print(\"The linear velocity with first radius is :\",v2,\"rad/sec\")\n"
   ]
  },
  {
   "cell_type": "markdown",
   "metadata": {},
   "source": [
    "# PROGRAM NO # 3"
   ]
  },
  {
   "cell_type": "code",
   "execution_count": 15,
   "metadata": {},
   "outputs": [
    {
     "name": "stdout",
     "output_type": "stream",
     "text": [
      "The angular velocity is : 3.0 rad/sec\n"
     ]
    }
   ],
   "source": [
    "#to find w\n",
    "r=0.3 #in m\n",
    "v=10 #in meter/sec\n",
    "w=(r*v)\n",
    "print(\"The angular velocity is :\",w,\"rad/sec\")"
   ]
  },
  {
   "cell_type": "markdown",
   "metadata": {},
   "source": [
    "# PROGRAM NO # 4"
   ]
  },
  {
   "cell_type": "code",
   "execution_count": 16,
   "metadata": {},
   "outputs": [
    {
     "name": "stdout",
     "output_type": "stream",
     "text": [
      "the angular speed is given as : 2.5 rad/sec\n"
     ]
    }
   ],
   "source": [
    "#to find angular speed\n",
    "r=0.25 # in m\n",
    "v=10 #in meter/sec\n",
    "w=v*r\n",
    "print(\"the angular speed is given as :\",w,\"rad/sec\")"
   ]
  },
  {
   "cell_type": "markdown",
   "metadata": {},
   "source": [
    "# PROGRAM NO # 5"
   ]
  },
  {
   "cell_type": "code",
   "execution_count": 18,
   "metadata": {},
   "outputs": [
    {
     "name": "stdout",
     "output_type": "stream",
     "text": [
      "the disacne that a car travels in 10 sec is : 25 m\n"
     ]
    }
   ],
   "source": [
    "w=12.56 #rad/sec\n",
    "r=0.2 #in meter\n",
    "t=10 #in sec\n",
    "#as v=s/t\n",
    "s=r*w*t\n",
    "print(\"the disacne that a car travels in 10 sec is :\" ,round(s),\"m\")"
   ]
  },
  {
   "cell_type": "markdown",
   "metadata": {},
   "source": [
    "# PROGRAM NO# 6"
   ]
  },
  {
   "cell_type": "code",
   "execution_count": 19,
   "metadata": {},
   "outputs": [
    {
     "name": "stdout",
     "output_type": "stream",
     "text": [
      "the distance that a car travels is : -1750 m\n"
     ]
    }
   ],
   "source": [
    "v=50 #in miles per hour\n",
    "a=10 #miles/h2\n",
    "t=180 #in sec\n",
    "u=v-(a*t)\n",
    "print(\"the distance that a car travels is :\",u,\"m\")"
   ]
  },
  {
   "cell_type": "markdown",
   "metadata": {},
   "source": [
    "# PROGRAM NO # 7"
   ]
  },
  {
   "cell_type": "code",
   "execution_count": 26,
   "metadata": {},
   "outputs": [
    {
     "name": "stdout",
     "output_type": "stream",
     "text": [
      "The velocity at which it hit the ground is : 45 m/s\n"
     ]
    }
   ],
   "source": [
    "import math\n",
    "a=10 #in m/s2\n",
    "s=100 #feet\n",
    "u=0\n",
    "v1=(2*a*s)-u**2\n",
    "v=math.sqrt(v1)\n",
    "print(\"The velocity at which it hit the ground is :\",round(v),\"m/s\")\n"
   ]
  }
 ],
 "metadata": {
  "kernelspec": {
   "display_name": "Python 3",
   "language": "python",
   "name": "python3"
  },
  "language_info": {
   "codemirror_mode": {
    "name": "ipython",
    "version": 3
   },
   "file_extension": ".py",
   "mimetype": "text/x-python",
   "name": "python",
   "nbconvert_exporter": "python",
   "pygments_lexer": "ipython3",
   "version": "3.7.4"
  }
 },
 "nbformat": 4,
 "nbformat_minor": 2
}
