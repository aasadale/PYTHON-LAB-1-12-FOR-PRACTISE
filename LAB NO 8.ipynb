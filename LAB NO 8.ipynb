{
 "cells": [
  {
   "cell_type": "markdown",
   "metadata": {},
   "source": [
    "# PROGRAM NO # 1"
   ]
  },
  {
   "cell_type": "code",
   "execution_count": 11,
   "metadata": {},
   "outputs": [
    {
     "name": "stdout",
     "output_type": "stream",
     "text": [
      "{'father': 'shahid javed', 'mother': 'ms.shahid', 'borther1': 'sohaib', 'brother2': 'hasnain', 'sister': 'ms.jameel'}\n",
      "\n",
      "\n",
      "{'father': 'shahid javed', 'mother': 'ms.shahid', 'borther1': 'sohaib', 'brother2': 'hasnain', 'sister': 'ms.jameel', 'brother in law': 'jaeeml anwar', 'cousin': 'ali', 'cousin2': 'ahmed', 'maternal father': 'ali muhammad', 'maternal mother': 'mrs.ali', 'paternal father': 'nazeer ahmed', 'paternal mother': 'mrs.nazeer'}\n"
     ]
    }
   ],
   "source": [
    "dict={'father':'shahid javed','mother':'ms.shahid','borther1':'sohaib','brother2':'hasnain','sister':'ms.jameel'}\n",
    "print(dict)\n",
    "print(\"\\n\")\n",
    "dict['brother in law']='jaeeml anwar'\n",
    "dict['cousin']='ali'\n",
    "dict['cousin2']='ahmed'\n",
    "dict['maternal father']='ali muhammad'\n",
    "dict['maternal mother']='mrs.ali'\n",
    "dict['paternal father']='nazeer ahmed'\n",
    "dict['paternal mother']='mrs.nazeer'\n",
    "print(dict)"
   ]
  },
  {
   "cell_type": "markdown",
   "metadata": {},
   "source": [
    "# PROGRAM NO # 2"
   ]
  },
  {
   "cell_type": "code",
   "execution_count": 38,
   "metadata": {},
   "outputs": [
    {
     "name": "stdout",
     "output_type": "stream",
     "text": [
      "10\n",
      "{'father': '0304----1', 'mother': '0303----2', 'sister': '0454----1', 'brother': '0435-----3', 'cousin': '2304----5', 'asad': '23454---6', 'ali': '56-----', 'daniyal': '6587----1', 'osama': '678877---4'}\n",
      "\n",
      "\n",
      "\n",
      "The dictionary after removing some directories are :\n",
      " {'sister': '0454----1', 'brother': '0435-----3', 'asad': '23454---6', 'ali': '56-----', 'daniyal': '6587----1', 'osama': '678877---4'}\n",
      "The lenght of directory after poping item is : 6\n"
     ]
    }
   ],
   "source": [
    "def  phone_directory():\n",
    "    dict={'father':'0304----1','mother':'0303----2','sister':'0454----1','brother':'0435-----3','cousin':'345----4','cousin':'2304----5','asad':'23454---6','ali':'56-----','daniyal':'6587----1','osama':'678877---4'}\n",
    "    print(len(dict)+1)\n",
    "    print(dict)\n",
    "    print(\"\\n\\n\")\n",
    "    del dict['father']\n",
    "    del dict['mother']\n",
    "    dict.pop('cousin')\n",
    "    print(\"The dictionary after removing some directories are :\\n\",dict)\n",
    "    print(\"The lenght of directory after poping item is :\",len(dict))\n",
    "phone_directory()"
   ]
  },
  {
   "cell_type": "markdown",
   "metadata": {},
   "source": [
    "# PROGRAM NO # 3"
   ]
  },
  {
   "cell_type": "code",
   "execution_count": 36,
   "metadata": {},
   "outputs": [
    {
     "name": "stdout",
     "output_type": "stream",
     "text": [
      "you will eat biryani of your choice this week\n",
      "you will eat pulao of your choice this week\n",
      "you will eat 2 dishes of your week\n"
     ]
    }
   ],
   "source": [
    "my_choice={'choice':['biryani','tikka','beef biryani','broast','lasagnia','pulao']}\n",
    "cooked_dishes={'dishes':['biryani','gol gappy','singaporian','chinese','pulao']}\n",
    "c=0\n",
    "for i in my_choice.values():\n",
    "    for j in cooked_dishes.values():\n",
    "        for k in i:\n",
    "            for m in j:\n",
    "                if m==k:\n",
    "                    print(\"you will eat\",m,'of your choice this week')\n",
    "                    c+=1\n",
    "    print('you will eat',c,'dishes of your week')"
   ]
  },
  {
   "cell_type": "markdown",
   "metadata": {},
   "source": [
    "# PROGRAM NO # 4"
   ]
  },
  {
   "cell_type": "code",
   "execution_count": 36,
   "metadata": {},
   "outputs": [
    {
     "name": "stdout",
     "output_type": "stream",
     "text": [
      "The common guest in my list and parents list are : ['anti', 'mamo', 'taya', 'ahmed', 'sohaib', 'daniyal', 'asad']\n",
      "The total number of guests are : 7\n"
     ]
    }
   ],
   "source": [
    "def common_guest():\n",
    "    guest1={'my_choice':['uncle','anti','mamo','khala','taya','ahmed','bilal','osama','sohaib','daniyal','asad']}\n",
    "    guest2={'family_choice':['mamo','anti','ali','sohaib','daniyal','asad','taya','ahmed',]}\n",
    "    c=0\n",
    "    x=[]\n",
    "    for i in guest1.values():\n",
    "        for j in guest2.values():\n",
    "            for k in i:\n",
    "                for m in j:\n",
    "                    if m==k:\n",
    "                        x.append(m)\n",
    "                        c+=1\n",
    "    print(\"The common guest in my list and parents list are :\",x)\n",
    "    print(\"The total number of guests are :\",c)\n",
    "common_guest()"
   ]
  },
  {
   "cell_type": "markdown",
   "metadata": {},
   "source": [
    "# PROGRAM NO # 5"
   ]
  },
  {
   "cell_type": "code",
   "execution_count": 2,
   "metadata": {},
   "outputs": [
    {
     "data": {
      "text/plain": [
       "{'p': '0x70',\n",
       " 'a': '0x61',\n",
       " 'k': '0x6b',\n",
       " 'i': '0x69',\n",
       " 's': '0x73',\n",
       " 't': '0x74',\n",
       " 'n': '0x6e'}"
      ]
     },
     "execution_count": 2,
     "metadata": {},
     "output_type": "execute_result"
    }
   ],
   "source": [
    "def hexascii():\n",
    "    x=\"pakistan\".casefold()\n",
    "    b={}\n",
    "    for i in x:\n",
    "        b[i]=hex(ord(i))\n",
    "    return b\n",
    "hexascii()"
   ]
  },
  {
   "cell_type": "code",
   "execution_count": null,
   "metadata": {},
   "outputs": [],
   "source": []
  },
  {
   "cell_type": "code",
   "execution_count": null,
   "metadata": {},
   "outputs": [],
   "source": []
  }
 ],
 "metadata": {
  "kernelspec": {
   "display_name": "Python 3",
   "language": "python",
   "name": "python3"
  },
  "language_info": {
   "codemirror_mode": {
    "name": "ipython",
    "version": 3
   },
   "file_extension": ".py",
   "mimetype": "text/x-python",
   "name": "python",
   "nbconvert_exporter": "python",
   "pygments_lexer": "ipython3",
   "version": "3.7.4"
  }
 },
 "nbformat": 4,
 "nbformat_minor": 2
}
