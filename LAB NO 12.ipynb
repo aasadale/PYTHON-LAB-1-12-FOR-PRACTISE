{
 "cells": [
  {
   "cell_type": "markdown",
   "metadata": {},
   "source": [
    "# PROGRAM NO # 1"
   ]
  },
  {
   "cell_type": "code",
   "execution_count": 1,
   "metadata": {},
   "outputs": [
    {
     "name": "stdout",
     "output_type": "stream",
     "text": [
      "output list using list comprehension: [12, 24, 36, 48, 60, 72, 84, 96, 108, 120, 132, 144]\n"
     ]
    }
   ],
   "source": [
    "var1=12\n",
    "list_using_comp=[var1*var for var in range(1,13)]\n",
    "print(\"output list using list comprehension:\",list_using_comp)"
   ]
  },
  {
   "cell_type": "markdown",
   "metadata": {},
   "source": [
    "# PROGRAM NO # 2"
   ]
  },
  {
   "cell_type": "code",
   "execution_count": 3,
   "metadata": {},
   "outputs": [
    {
     "name": "stdout",
     "output_type": "stream",
     "text": [
      "the positive numbers are :  [[1, 2, 3, 4, 5, 6, 7]]\n",
      "the negative numbers are : [[-7, -6, -5, -4, -3, -2, -1]]\n"
     ]
    }
   ],
   "source": [
    "lst = [1,2,3,4,5,6,7,-7,-6,-5,-4,-3,-2,-1]\n",
    "lst1 = []\n",
    "lst2 = []\n",
    "list_using_comp = [var for var in lst if var>=0 ] \n",
    "lst1.append(list_using_comp)\n",
    "list_using_comp1 = [var for var in lst if var<=0 ]\n",
    "lst2.append(list_using_comp1)\n",
    "print(\"the positive numbers are : \",lst1)\n",
    "print(\"the negative numbers are :\",lst2)"
   ]
  },
  {
   "cell_type": "markdown",
   "metadata": {},
   "source": [
    "# PROGRAM NO # 3"
   ]
  },
  {
   "cell_type": "code",
   "execution_count": 2,
   "metadata": {},
   "outputs": [
    {
     "name": "stdout",
     "output_type": "stream",
     "text": [
      "{98, 70, 42, 14, 84, 56, 28}\n"
     ]
    }
   ],
   "source": [
    "dict1={var for var in range(1,100) if var>5 and var%2==0 and var%7==0}\n",
    "print(dict1)"
   ]
  },
  {
   "cell_type": "markdown",
   "metadata": {},
   "source": [
    "# PROGRAM NO # 4"
   ]
  },
  {
   "cell_type": "code",
   "execution_count": 5,
   "metadata": {},
   "outputs": [
    {
     "name": "stdout",
     "output_type": "stream",
     "text": [
      "{'dishes': {'item1': 'biryani'}, 'mydishes': {'karahi': 'bara b q'}}\n"
     ]
    }
   ],
   "source": [
    "nested_dict = { 'dishes': {'item1': 'biryani'},'mydishes': {'karahi': 'bara b q'}}\n",
    "print(nested_dict)"
   ]
  },
  {
   "cell_type": "markdown",
   "metadata": {},
   "source": [
    "# PROGRAM NO # 5"
   ]
  },
  {
   "cell_type": "code",
   "execution_count": null,
   "metadata": {},
   "outputs": [],
   "source": [
    "#1) map function in python takes in a function and a list as argument.this function is used with lambda function\n",
    "#2) reduce function is used to perform repetative operations over the pair of list.this is part of functools module\n",
    "#3) filter func is used to offer an elegant way to filter out all the elements of a seqeunce for which the \n",
    "#   funtion return true"
   ]
  },
  {
   "cell_type": "markdown",
   "metadata": {},
   "source": [
    "# PROGRAM NO # 6"
   ]
  },
  {
   "cell_type": "code",
   "execution_count": 3,
   "metadata": {},
   "outputs": [
    {
     "name": "stdout",
     "output_type": "stream",
     "text": [
      "12 * 1 = 12\n",
      "12 * 2 = 24\n",
      "12 * 3 = 36\n",
      "12 * 4 = 48\n",
      "12 * 5 = 60\n",
      "12 * 6 = 72\n",
      "12 * 7 = 84\n",
      "12 * 8 = 96\n",
      "12 * 9 = 108\n",
      "12 * 10 = 120\n"
     ]
    }
   ],
   "source": [
    "for i in range(1,11):\n",
    "    table = lambda x, y: x * i\n",
    "    print (\"{} * {} = {}\".format(12,i,12*i))"
   ]
  },
  {
   "cell_type": "code",
   "execution_count": null,
   "metadata": {},
   "outputs": [],
   "source": []
  }
 ],
 "metadata": {
  "kernelspec": {
   "display_name": "Python 3",
   "language": "python",
   "name": "python3"
  },
  "language_info": {
   "codemirror_mode": {
    "name": "ipython",
    "version": 3
   },
   "file_extension": ".py",
   "mimetype": "text/x-python",
   "name": "python",
   "nbconvert_exporter": "python",
   "pygments_lexer": "ipython3",
   "version": "3.7.4"
  }
 },
 "nbformat": 4,
 "nbformat_minor": 2
}
