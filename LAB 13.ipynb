{
 "cells": [
  {
   "cell_type": "markdown",
   "metadata": {},
   "source": [
    "# LAB TASK PROGRAMS"
   ]
  },
  {
   "cell_type": "code",
   "execution_count": 7,
   "metadata": {},
   "outputs": [
    {
     "name": "stdout",
     "output_type": "stream",
     "text": [
      "<re.Match object; span=(0, 113), match='Some analyst say a buffet-less berkshire hathway >\n",
      "\n",
      "\n",
      "\n",
      "['ou']\n",
      "[]\n",
      "['into']\n",
      "\n",
      "\n",
      "\n",
      "4\n",
      "\n",
      "\n",
      "\n",
      "['some', 'analyst', 'say', 'a', 'buffet-less', 'berkshire', 'hathway', 'could', 'be', 'a', 'candidate', 'for', 'being', 'broken', 'up', 'into', 'multiple', 'companies']\n",
      "\n",
      "\n",
      "\n",
      "some--analyst--say--a--buffet-less--berkshire--hathway--could--be--a--candidate--for--being--broken--up--into--multiple--companies\n",
      "\n",
      "\n",
      "\n",
      "some*analyst*say*a*buffet-less*berkshire hathway could be a candidate for being broken up into multiple companies\n",
      "\n",
      "\n",
      "\n",
      "A random number from list is : 5\n",
      "A random number from range is  15\n",
      "a random number between 0 and 1 is  0.761925427594386\n",
      "The mapped number with 4 is : 0.6229016948897019\n",
      "the list before shuffling is  1 9 3 5 7 \r\n",
      "the list after shuffling is  7 5 9 1 3 \r\n",
      "the random floating between 5 to 10 is  8.24487276568462\n",
      "\n",
      "\n",
      "\n",
      "4\n",
      "['into']\n",
      "some---analyst---say---a---buffet-less berkshire hathway could be a candidate for being broken up into multiple companies\n",
      "\n",
      "\n",
      "\n",
      "2\n",
      "8\n",
      "6.858966777811536\n",
      "0.8684454578650953\n",
      "2 6 3 1 5 4 \n",
      "\n",
      "\n",
      "3\n",
      "6\n",
      "5\n",
      "4\n",
      "2\n",
      "1\n"
     ]
    }
   ],
   "source": [
    "# PROGRAM NO # 1\n",
    "import re\n",
    "a=\"Some analyst say a buffet-less berkshire hathway could be a candidate for being broken up into multiple companies\"\n",
    "x=re.search(\"^Some.*companies$\",a)\n",
    "print(x)\n",
    "print(\"\\n\\n\")\n",
    "#program no # 2\n",
    "import re\n",
    "a=\"some analyst say a buffet-less berkshire hathway could be a candidate for being broken up into multiple companies\"\n",
    "x=re.findall(\"ou\",a)\n",
    "print(x)\n",
    "x=re.findall(\"in to\",a)\n",
    "print(x)\n",
    "x=re.findall(\"into\",a)\n",
    "print(x)\n",
    "print(\"\\n\\n\")\n",
    "#program no # 3\n",
    "import re\n",
    "a=\"some analyst say a buffet-less berkshire hathway could be a candidate for being broken up into multiple companies\"\n",
    "x=re.search(\"\\s\",a)\n",
    "print(x.start())\n",
    "print(\"\\n\\n\")\n",
    "# program no #4\n",
    "import re\n",
    "a=\"some analyst say a buffet-less berkshire hathway could be a candidate for being broken up into multiple companies\"\n",
    "x=re.split(\"\\s\",a)\n",
    "print(x)\n",
    "print(\"\\n\\n\")\n",
    "#program no # 5\n",
    "import re\n",
    "a=\"some analyst say a buffet-less berkshire hathway could be a candidate for being broken up into multiple companies\"\n",
    "x=re.sub(\"\\s\",'--',a)\n",
    "print(x)\n",
    "print(\"\\n\\n\")\n",
    "#program no # 6\n",
    "import re\n",
    "a=\"some analyst say a buffet-less berkshire hathway could be a candidate for being broken up into multiple companies\"\n",
    "x=re.sub(\"\\s\",'*',a,5)\n",
    "print(x)\n",
    "print(\"\\n\\n\")\n",
    "#program no # 7\n",
    "import random\n",
    "print(\"A random number from list is :\",end=\" \")\n",
    "print(random.choice([1,2,4,5,6,7]))\n",
    " \n",
    "print(\"A random number from range is \",end =\" \")\n",
    "print(random.randrange(10,40,5))\n",
    "\n",
    "print(\"a random number between 0 and 1 is \",end =\" \")\n",
    "print(random.random())\n",
    "\n",
    "random.seed(5)\n",
    "print(\"The mapped number with 4 is :\",end= \" \")\n",
    "print(random.random())\n",
    "\n",
    "list_=[1,9,3,5,7]\n",
    "print(\"the list before shuffling is \",end =\" \")\n",
    "for i in range (0,len(list_)):\n",
    "    print(list_[i],end = \" \")\n",
    "print(\"\\r\")\n",
    "random.shuffle(list_)\n",
    "print(\"the list after shuffling is \",end = \" \")\n",
    "for i in range(0,len(list_)):\n",
    "    print(list_[i],end=\" \")\n",
    "print(\"\\r\")\n",
    "\n",
    "print(\"the random floating between 5 to 10 is \",end = \" \")\n",
    "print(random.uniform(5,10))\n",
    "print(\"\\n\\n\")\n",
    "#program no # 7\n",
    "import re\n",
    "a=\"some analyst say a buffet-less berkshire hathway could be a candidate for being broken up into multiple companies\"\n",
    "x=re.search(\"\\s\",a)\n",
    "print(x.start())\n",
    "x=re.findall(\"into\",a)\n",
    "print(x)\n",
    "x=re.sub(\"\\s\",'---',a,4)\n",
    "print(x)\n",
    "print(\"\\n\\n\")\n",
    "#program no 8\n",
    "list_=[1,2,3,4,5,6,]\n",
    "print(random.choice(list_))\n",
    "print(random.randrange(5,40 ,3))\n",
    "print(random.uniform(5,10))\n",
    "print(random.random())\n",
    "random.shuffle(list_)\n",
    "for i in range(0,len(list_)):\n",
    "    print(list_[i],end = \" \")\n",
    "print(\"\\n\\n\")\n",
    "#program no # 9\n",
    "import random\n",
    "list1=[1,2,3,4,5,6]\n",
    "random.shuffle(list1)\n",
    "for i in range (0,len(list1)):\n",
    "    print(list1[i])"
   ]
  },
  {
   "cell_type": "markdown",
   "metadata": {},
   "source": [
    "# TASK NO:4"
   ]
  },
  {
   "cell_type": "code",
   "execution_count": 15,
   "metadata": {},
   "outputs": [
    {
     "name": "stdout",
     "output_type": "stream",
     "text": [
      "['this', 'is', 'the', 'programming', 'lab', 'task', '']\n"
     ]
    }
   ],
   "source": [
    "import re\n",
    "f=open(\"asad.txt\",\"r\")\n",
    "strs=f.read()\n",
    "lst=re.split('\\s',strs)\n",
    "print(lst)"
   ]
  },
  {
   "cell_type": "code",
   "execution_count": 16,
   "metadata": {},
   "outputs": [
    {
     "name": "stdout",
     "output_type": "stream",
     "text": [
      "Total vowels in the given string are:  8\n"
     ]
    }
   ],
   "source": [
    "a=re.findall('a' , strs)\n",
    "e=re.findall('e' , strs)\n",
    "i=re.findall('i' , strs)\n",
    "o=re.findall('o' , strs)\n",
    "u=re.findall('u' , strs)\n",
    "total_vowels=a+e+i+o+u\n",
    "print(\"Total vowels in the given string are: \",len(total_vowels))"
   ]
  },
  {
   "cell_type": "markdown",
   "metadata": {},
   "source": [
    "# TASK NO:5"
   ]
  },
  {
   "cell_type": "code",
   "execution_count": 5,
   "metadata": {},
   "outputs": [
    {
     "name": "stdout",
     "output_type": "stream",
     "text": [
      "25\n"
     ]
    }
   ],
   "source": [
    "#changing global varirable by function\n",
    "num=20\n",
    "def change():\n",
    "    global num\n",
    "    num = num + 5\n",
    "change()\n",
    "print(num)"
   ]
  },
  {
   "cell_type": "code",
   "execution_count": 6,
   "metadata": {},
   "outputs": [
    {
     "name": "stdout",
     "output_type": "stream",
     "text": [
      "25\n"
     ]
    }
   ],
   "source": [
    "#change local variable by from global space\n",
    "\n",
    "def change():\n",
    "    global num\n",
    "    num=20\n",
    "change()\n",
    "num = num + 5\n",
    "print(num)"
   ]
  },
  {
   "cell_type": "markdown",
   "metadata": {},
   "source": [
    "# TASK NO:6"
   ]
  },
  {
   "cell_type": "code",
   "execution_count": 4,
   "metadata": {},
   "outputs": [
    {
     "name": "stdout",
     "output_type": "stream",
     "text": [
      "Number of dice1 is : 6\n",
      "Number of dice2 is : 2\n",
      "you got six runs ! Now tou can use your numbers !\n",
      "Do you want to shake the dice ? yes\n",
      "Number of dice1 is : 5\n",
      "Number of dice2 is : 5\n",
      "you again got six..Do you want to open your goat or just want to move ? move\n",
      "you can now move 10 steps forward !\n",
      "Do you want to shake the dice ? yes\n",
      "Number of dice1 is : 3\n",
      "Number of dice2 is : 4\n",
      "you again got six..Do you want to open your goat or just want to move ? no\n",
      "Your other goat is unlocked you can move with remaining numbers !\n"
     ]
    }
   ],
   "source": [
    "import random\n",
    "list_=[1,2,3,4,5,6]\n",
    "list1=[1,2,3,4,5,6]\n",
    "dice1=random.choice(list_)\n",
    "print(\"Number of dice1 is :\",dice1)\n",
    "dice2=random.choice(list1)\n",
    "print(\"Number of dice2 is :\",dice2)\n",
    "if dice1==list_[5] or dice2==list1[5]:\n",
    "    print(\"you got six runs ! Now tou can use your numbers !\")\n",
    "    while True :\n",
    "        ask=input(\"Do you want to shake the dice ? \")\n",
    "        if ask==\"yes\":\n",
    "            dice1=random.choice(list_)\n",
    "            print(\"Number of dice1 is :\",random.choice(list_))\n",
    "            dice2=random.choice(list1)\n",
    "            print(\"Number of dice2 is :\",random.choice(list1))\n",
    "        if dice1==list_[5] or dice2==list1[5]:\n",
    "            ask=input(\"you again got six..Do you want to open your goat or just want to move ? \")\n",
    "            if ask==\"move\":\n",
    "                print(\"you can now move\",dice1+dice2,\"steps forward !\")\n",
    "            else:\n",
    "                print(\"Your other goat is unlocked you can move with remaining numbers !\")\n",
    "                break"
   ]
  },
  {
   "cell_type": "markdown",
   "metadata": {},
   "source": [
    "# TASK NO:7"
   ]
  },
  {
   "cell_type": "code",
   "execution_count": 8,
   "metadata": {},
   "outputs": [
    {
     "data": {
      "text/plain": [
       "0.16059409765356814"
      ]
     },
     "execution_count": 8,
     "metadata": {},
     "output_type": "execute_result"
    }
   ],
   "source": [
    "import random\n",
    "random.random()"
   ]
  },
  {
   "cell_type": "code",
   "execution_count": 9,
   "metadata": {},
   "outputs": [
    {
     "data": {
      "text/plain": [
       "69"
      ]
     },
     "execution_count": 9,
     "metadata": {},
     "output_type": "execute_result"
    }
   ],
   "source": [
    "import random\n",
    "random.randint(1,100)"
   ]
  },
  {
   "cell_type": "code",
   "execution_count": 10,
   "metadata": {},
   "outputs": [
    {
     "data": {
      "text/plain": [
       "0"
      ]
     },
     "execution_count": 10,
     "metadata": {},
     "output_type": "execute_result"
    }
   ],
   "source": [
    "random.randrange(0,101,10)"
   ]
  },
  {
   "cell_type": "code",
   "execution_count": 11,
   "metadata": {},
   "outputs": [
    {
     "data": {
      "text/plain": [
       "'t'"
      ]
     },
     "execution_count": 11,
     "metadata": {},
     "output_type": "execute_result"
    }
   ],
   "source": [
    "random.choice('computer')"
   ]
  },
  {
   "cell_type": "code",
   "execution_count": 12,
   "metadata": {},
   "outputs": [
    {
     "data": {
      "text/plain": [
       "23"
      ]
     },
     "execution_count": 12,
     "metadata": {},
     "output_type": "execute_result"
    }
   ],
   "source": [
    "random.choice((12,23,45,67,65,43))"
   ]
  },
  {
   "cell_type": "code",
   "execution_count": 13,
   "metadata": {},
   "outputs": [
    {
     "name": "stdout",
     "output_type": "stream",
     "text": [
      "[45, 65, 43, 12, 67, 23]\n"
     ]
    }
   ],
   "source": [
    "numbers=[12,23,45,67,65,43]\n",
    "random.shuffle(numbers)\n",
    "print(numbers)"
   ]
  },
  {
   "cell_type": "markdown",
   "metadata": {},
   "source": [
    "# TASK NO:8"
   ]
  },
  {
   "cell_type": "code",
   "execution_count": 5,
   "metadata": {},
   "outputs": [
    {
     "name": "stderr",
     "output_type": "stream",
     "text": [
      "Exception in Tkinter callback\n",
      "Traceback (most recent call last):\n",
      "  File \"C:\\Users\\asada\\Anaconda3\\lib\\tkinter\\__init__.py\", line 1705, in __call__\n",
      "    return self.func(*args)\n",
      "  File \"<ipython-input-5-5a576773f0fb>\", line 14, in function3\n",
      "    x=random.randrange([2,112,4])\n",
      "  File \"C:\\Users\\asada\\Anaconda3\\lib\\random.py\", line 184, in randrange\n",
      "    istart = _int(start)\n",
      "TypeError: int() argument must be a string, a bytes-like object or a number, not 'list'\n",
      "Exception in Tkinter callback\n",
      "Traceback (most recent call last):\n",
      "  File \"C:\\Users\\asada\\Anaconda3\\lib\\tkinter\\__init__.py\", line 1705, in __call__\n",
      "    return self.func(*args)\n",
      "  File \"<ipython-input-5-5a576773f0fb>\", line 23, in function5\n",
      "    infile=open(\"asad.txt\",\"r\")\n",
      "FileNotFoundError: [Errno 2] No such file or directory: 'asad.txt'\n",
      "Exception in Tkinter callback\n",
      "Traceback (most recent call last):\n",
      "  File \"C:\\Users\\asada\\Anaconda3\\lib\\tkinter\\__init__.py\", line 1705, in __call__\n",
      "    return self.func(*args)\n",
      "  File \"<ipython-input-5-5a576773f0fb>\", line 29, in function6\n",
      "    file=open(\"asad.txt\",\"r\")\n",
      "FileNotFoundError: [Errno 2] No such file or directory: 'asad.txt'\n",
      "Exception in Tkinter callback\n",
      "Traceback (most recent call last):\n",
      "  File \"C:\\Users\\asada\\Anaconda3\\lib\\tkinter\\__init__.py\", line 1705, in __call__\n",
      "    return self.func(*args)\n",
      "  File \"<ipython-input-5-5a576773f0fb>\", line 35, in function7\n",
      "    files=open(\"asad.txt\",\"r\")\n",
      "FileNotFoundError: [Errno 2] No such file or directory: 'asad.txt'\n",
      "Exception in Tkinter callback\n",
      "Traceback (most recent call last):\n",
      "  File \"C:\\Users\\asada\\Anaconda3\\lib\\tkinter\\__init__.py\", line 1705, in __call__\n",
      "    return self.func(*args)\n",
      "  File \"<ipython-input-5-5a576773f0fb>\", line 41, in function8\n",
      "    files=open(\"asad.txt\",\"r\")\n",
      "FileNotFoundError: [Errno 2] No such file or directory: 'asad.txt'\n"
     ]
    }
   ],
   "source": [
    "import tkinter\n",
    "import random\n",
    "import re\n",
    "window=tkinter.Tk()\n",
    "def function1():\n",
    "    z=random.choice([1,2,5,6])\n",
    "    tkinter.Label(window,text=z).pack()\n",
    "    \n",
    "def function2():\n",
    "    y=random.shuffle([2,4,6,8])\n",
    "    tkinter.Label(window,text=y).pack()\n",
    "    \n",
    "def function3():\n",
    "    x=random.randrange([2,112,4])\n",
    "    tkinter.Label(window,text=x).pack()\n",
    "    \n",
    "def function4():\n",
    "    r=random.uniform(5,10)\n",
    "    tkinter.Label(window,text=r).pack()\n",
    "    \n",
    "\n",
    "def function5():\n",
    "    infile=open(\"asad.txt\",\"r\")\n",
    "    olp=infile.read()\n",
    "    x=len(re.findall(\"[a,e,i,o,u]\",olp))\n",
    "    tkinter.Label(window,text=x).pack()\n",
    "    \n",
    "def function6():\n",
    "    file=open(\"asad.txt\",\"r\")\n",
    "    strs=file.read()\n",
    "    l=len(re.split(\"\\s\",strs))\n",
    "    tkinter.Label(window,text=l).pack()\n",
    "\n",
    "def function7():\n",
    "    files=open(\"asad.txt\",\"r\")\n",
    "    string=files.read()\n",
    "    y=len(re.findall(\"one+\",string))\n",
    "    tkinter.Label(window,text=y).pack()\n",
    "          \n",
    "def function8():\n",
    "    files=open(\"asad.txt\",\"r\")\n",
    "    string=files.read()\n",
    "    y=re.findall(\"one+\",string)\n",
    "    tkinter.Label(window,text=y).pack()\n",
    "\n",
    "          \n",
    "          \n",
    "          \n",
    "          \n",
    "btn1=tkinter.Button(window,text=\"random\",command=function1).pack()\n",
    "btn1=tkinter.Button(window,text=\"shuffle\",command=function2).pack()\n",
    "btn1=tkinter.Button(window,text=\"range\",command=function3).pack()\n",
    "btn1=tkinter.Button(window,text=\"uniform\",command=function4).pack()\n",
    "btn1=tkinter.Button(window,text=\"number of vowels\",command=function5).pack()\n",
    "btn1=tkinter.Button(window,text=\"number of words\",command=function6).pack()\n",
    "btn1=tkinter.Button(window,text=\"number of occurence\",command=function7).pack()\n",
    "btn1=tkinter.Button(window,text=\"occurence\",command=function8).pack()\n",
    "\n",
    "\n",
    "window.mainloop()\n",
    "    "
   ]
  },
  {
   "cell_type": "code",
   "execution_count": null,
   "metadata": {},
   "outputs": [],
   "source": []
  }
 ],
 "metadata": {
  "kernelspec": {
   "display_name": "Python 3",
   "language": "python",
   "name": "python3"
  },
  "language_info": {
   "codemirror_mode": {
    "name": "ipython",
    "version": 3
   },
   "file_extension": ".py",
   "mimetype": "text/x-python",
   "name": "python",
   "nbconvert_exporter": "python",
   "pygments_lexer": "ipython3",
   "version": "3.7.4"
  }
 },
 "nbformat": 4,
 "nbformat_minor": 2
}
